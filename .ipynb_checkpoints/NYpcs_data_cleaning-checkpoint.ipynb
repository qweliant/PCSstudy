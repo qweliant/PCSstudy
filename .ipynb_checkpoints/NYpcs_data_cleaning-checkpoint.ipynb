{
 "cells": [
  {
   "cell_type": "markdown",
   "metadata": {
    "colab_type": "text",
    "id": "view-in-github"
   },
   "source": [
    "<a href=\"https://colab.research.google.com/github/qweliant/GenderAndSex/blob/master/NYpcs.ipynb\" target=\"_parent\"><img src=\"https://colab.research.google.com/assets/colab-badge.svg\" alt=\"Open In Colab\"/></a>"
   ]
  },
  {
   "cell_type": "code",
   "execution_count": null,
   "metadata": {
    "colab": {},
    "colab_type": "code",
    "id": "ZM8XS9rrHAds"
   },
   "outputs": [],
   "source": [
    "import pandas as pd\n",
    "import numpy as np\n",
    "import matplotlib.pyplot as plt\n",
    "from scipy import stats\n",
    "import seaborn as sns\n",
    "import plotly.graph_objects as go \n",
    "import plotly.express as px"
   ]
  },
  {
   "cell_type": "markdown",
   "metadata": {},
   "source": [
    "I have a few datasets, so i want to combine them all before data analysis"
   ]
  },
  {
   "cell_type": "code",
   "execution_count": null,
   "metadata": {
    "colab": {},
    "colab_type": "code",
    "id": "FPwu8eqpMa9Y"
   },
   "outputs": [],
   "source": [
    "url_17 = \"https://raw.githubusercontent.com/qweliant/PCSstudy/master/pcs2017.csv\" \n",
    "url_15 = \"https://raw.githubusercontent.com/qweliant/PCSstudy/master/pcs2015.csv\"\n",
    "url_13 = \"https://raw.githubusercontent.com/qweliant/PCSstudy/master/pcs2013.csv\"\n",
    "\n",
    "pcs_2017 = pd.read_csv(url_17)\n",
    "pcs_2015 = pd.read_csv(url_15)\n",
    "pcs_2013 = pd.read_csv(url_13)"
   ]
  },
  {
   "cell_type": "code",
   "execution_count": 10,
   "metadata": {},
   "outputs": [],
   "source": [
    "set1 = set(pcs_2017.columns)\n",
    "set2 = set(pcs_2015.columns)\n",
    "set3 = set(pcs_2013.columns)\n",
    "\n",
    "names = set1.difference(set2)\n",
    "diff = [name for name in names ]\n",
    "diff"
   ]
  },
  {
   "cell_type": "markdown",
   "metadata": {},
   "source": [
    "pcs_2017 and pcs_2015 have the same columns, lets check pcs_2017 and pcs_2013"
   ]
  },
  {
   "cell_type": "code",
   "execution_count": 14,
   "metadata": {},
   "outputs": [
    {
     "data": {
      "text/plain": [
       "['No Chronic Med Condition',\n",
       " 'Number Of Hours Worked Each Week',\n",
       " 'Pulmonary Asthma',\n",
       " 'Drug Substance Disorder',\n",
       " 'Three Digit Residence Zip Code',\n",
       " 'Received Smoking Counseling',\n",
       " 'Other Chronic Med Condition',\n",
       " 'Unknown Chronic Med Condition',\n",
       " 'Special Education Services',\n",
       " 'Preferred Language',\n",
       " 'Other Developmental Disability',\n",
       " 'Received Smoking Medication',\n",
       " 'Education Status']"
      ]
     },
     "execution_count": 14,
     "metadata": {},
     "output_type": "execute_result"
    }
   ],
   "source": [
    "names = set1.difference(set3)\n",
    "diff = [name for name in names ]\n",
    "diff"
   ]
  },
  {
   "cell_type": "code",
   "execution_count": 15,
   "metadata": {},
   "outputs": [
    {
     "data": {
      "text/plain": [
       "['No Chronic Med Condition',\n",
       " 'Number Of Hours Worked Each Week',\n",
       " 'Pulmonary Asthma',\n",
       " 'Drug Substance Disorder',\n",
       " 'Three Digit Residence Zip Code',\n",
       " 'Received Smoking Counseling',\n",
       " 'Other Chronic Med Condition',\n",
       " 'Unknown Chronic Med Condition',\n",
       " 'Special Education Services',\n",
       " 'Preferred Language',\n",
       " 'Other Developmental Disability',\n",
       " 'Received Smoking Medication',\n",
       " 'Education Status']"
      ]
     },
     "execution_count": 15,
     "metadata": {},
     "output_type": "execute_result"
    }
   ],
   "source": [
    "names = set2.difference(set3)\n",
    "diff = [name for name in names ]\n",
    "diff"
   ]
  },
  {
   "cell_type": "markdown",
   "metadata": {},
   "source": [
    "I need to investigate these columns. Since 2013 is our only problem, I will compare to pcs_2015"
   ]
  },
  {
   "cell_type": "code",
   "execution_count": 26,
   "metadata": {},
   "outputs": [
    {
     "data": {
      "text/plain": [
       "Index(['Survey Year', 'Program Category', 'Region Served', 'Age Group', 'Sex',\n",
       "       'Transgender', 'Sexual Orientation', 'Hispanic Ethnicity', 'Race',\n",
       "       'Living Situation', 'Household Composition', 'Primary Language',\n",
       "       'Veteran Status', 'Employment Status',\n",
       "       'Number of Hours Worked Each Week', 'Educational Status',\n",
       "       'Special Educational Services', 'Mental Illness',\n",
       "       'Intellectual Disability', 'Autism Spectrum',\n",
       "       'Other Developmental Disabilities', 'Alcohol Related Disorder',\n",
       "       'Drug Substance Related Disorder', 'Mobility Impairment Disorder',\n",
       "       'Hearing Visual Impairment', 'Hyperlipidemia', 'High Blood Pressure',\n",
       "       'Diabetes', 'Obesity', 'Heart Attack', 'Stroke', 'Other Cardiac',\n",
       "       'Pulmonary/Asthma', 'Alzheimer or Dementia', 'Kidney Disease',\n",
       "       'Liver Disease', 'Endocrine Condition', 'Neurological Condition',\n",
       "       'Traumatic Brain Injury', 'Joint Disease', 'Cancer',\n",
       "       'No Chronic Med. Condition', 'Unknown Chronic Med. Condition', 'Smokes',\n",
       "       'Receives Smoking Medication', 'Receives Smoking Counseling',\n",
       "       'Serious Mental Illness', 'Principal Diagnosis Class',\n",
       "       'Additional Diagnosis Class', 'SSI Cash Assistance',\n",
       "       'SSDI Cash Assistance', 'Veterans Disability Benefits',\n",
       "       'Veterans Cash Assistance', 'Public Assistance Cash Program',\n",
       "       'Other Cash Benefits', 'Medicaid and Medicare Insurance',\n",
       "       'No Insurance', 'Unknown Insurance Coverage', 'Medicaid Insurance',\n",
       "       'Medicaid Managed Insurance', 'Medicare Insurance', 'Private Insurance',\n",
       "       'Child Health Plus Insurance', 'Family Health Plus Insurance',\n",
       "       'Other Insurance', 'Criminal Justice Status',\n",
       "       'Three Digit Residential Zip Code'],\n",
       "      dtype='object')"
      ]
     },
     "execution_count": 26,
     "metadata": {},
     "output_type": "execute_result"
    }
   ],
   "source": [
    "pcs_2013.columns"
   ]
  },
  {
   "cell_type": "code",
   "execution_count": null,
   "metadata": {},
   "outputs": [],
   "source": []
  },
  {
   "cell_type": "code",
   "execution_count": null,
   "metadata": {},
   "outputs": [],
   "source": []
  },
  {
   "cell_type": "code",
   "execution_count": null,
   "metadata": {},
   "outputs": [],
   "source": []
  },
  {
   "cell_type": "code",
   "execution_count": null,
   "metadata": {},
   "outputs": [],
   "source": []
  },
  {
   "cell_type": "code",
   "execution_count": null,
   "metadata": {},
   "outputs": [],
   "source": []
  },
  {
   "cell_type": "code",
   "execution_count": null,
   "metadata": {},
   "outputs": [],
   "source": []
  },
  {
   "cell_type": "code",
   "execution_count": null,
   "metadata": {},
   "outputs": [],
   "source": []
  },
  {
   "cell_type": "code",
   "execution_count": null,
   "metadata": {},
   "outputs": [],
   "source": []
  },
  {
   "cell_type": "code",
   "execution_count": null,
   "metadata": {},
   "outputs": [],
   "source": []
  },
  {
   "cell_type": "code",
   "execution_count": null,
   "metadata": {},
   "outputs": [],
   "source": []
  },
  {
   "cell_type": "code",
   "execution_count": null,
   "metadata": {
    "colab": {},
    "colab_type": "code",
    "id": "j5_TPLEmTGG2"
   },
   "outputs": [],
   "source": [
    "def format(data_frame):\n",
    "    vals = {\n",
    "        'NOT IN LABOR FORCE:UNEMPLOYED AND NOT LOOKING FOR WORK' : 'out',\n",
    "        'UNEMPLOYED, LOOKING FOR WORK' : 'looking', \n",
    "        'EMPLOYED' : 'employed',\n",
    "        'UNKNOWN EMPLOYMENT STATUS' : 'unknown', \n",
    "        'NON-PAID/VOLUNTEER' : 'pro-bono'\n",
    "    }\n",
    "    data_frame.replace(vals, inplace=True)\n",
    "    data_frame.columns = data_frame.columns.str.replace(' ', '_')\n",
    "    data_frame.columns = map(str.lower, data_frame.columns)\n"
   ]
  },
  {
   "cell_type": "code",
   "execution_count": null,
   "metadata": {
    "colab": {},
    "colab_type": "code",
    "id": "xsvVWifB3HP-"
   },
   "outputs": [],
   "source": [
    "pcs.head()"
   ]
  },
  {
   "cell_type": "code",
   "execution_count": null,
   "metadata": {
    "colab": {},
    "colab_type": "code",
    "id": "N0kTf7X9Qshz"
   },
   "outputs": [],
   "source": [
    "pcs.shape"
   ]
  },
  {
   "cell_type": "markdown",
   "metadata": {
    "colab_type": "text",
    "id": "Ty1a6xvh3o8i"
   },
   "source": [
    "I want to check out employment_status and living_situation because it would bias assumptions about the data with a tilt too far one way or another\n"
   ]
  },
  {
   "cell_type": "code",
   "execution_count": null,
   "metadata": {
    "colab": {},
    "colab_type": "code",
    "id": "I5aKQ6lZ4AoT"
   },
   "outputs": [],
   "source": [
    "pcs[pcs.isnull().any(axis=1)]"
   ]
  },
  {
   "cell_type": "code",
   "execution_count": null,
   "metadata": {
    "colab": {},
    "colab_type": "code",
    "id": "MbEgSvnS5LB7"
   },
   "outputs": [],
   "source": [
    "# no nulls so yay\n",
    "format(pcs)"
   ]
  },
  {
   "cell_type": "code",
   "execution_count": null,
   "metadata": {
    "colab": {},
    "colab_type": "code",
    "id": "Jlhyiqad5iWK"
   },
   "outputs": [],
   "source": [
    "# I can probs drob the survey date, lets make sure\n",
    "pcs['survey_year'].unique()"
   ]
  },
  {
   "cell_type": "code",
   "execution_count": null,
   "metadata": {
    "colab": {},
    "colab_type": "code",
    "id": "Pcm3ceR-5y7c"
   },
   "outputs": [],
   "source": [
    "pcs.drop(columns=['survey_year'], inplace=True)"
   ]
  },
  {
   "cell_type": "code",
   "execution_count": null,
   "metadata": {
    "colab": {},
    "colab_type": "code",
    "id": "Oe5lvU_s8yoT"
   },
   "outputs": [],
   "source": [
    "pcs['employment_status'].unique()"
   ]
  },
  {
   "cell_type": "code",
   "execution_count": null,
   "metadata": {
    "colab": {},
    "colab_type": "code",
    "id": "FGaP7QljA71U"
   },
   "outputs": [],
   "source": [
    "vals = {\n",
    "    'NOT IN LABOR FORCE:UNEMPLOYED AND NOT LOOKING FOR WORK' : 'out',\n",
    "    'UNEMPLOYED, LOOKING FOR WORK' : 'looking', \n",
    "    'EMPLOYED' : 'employed',\n",
    "    'UNKNOWN EMPLOYMENT STATUS' : 'unknown', \n",
    "    'NON-PAID/VOLUNTEER' : 'pro-bono'\n",
    "}\n",
    "\n",
    "pcs['employment_status'].replace(vals, inplace=True)"
   ]
  },
  {
   "cell_type": "code",
   "execution_count": null,
   "metadata": {
    "colab": {},
    "colab_type": "code",
    "id": "g6XWjbsA9T81"
   },
   "outputs": [],
   "source": [
    "import seaborn as sns\n",
    "from matplotlib import pyplot\n",
    "# pcs['employment_status'].value_counts().plot(kind='bar')\n",
    "f, axes = pyplot.subplots( sharey=True, figsize=(11, 4))\n",
    "sns.countplot(x=\"employment_status\", palette=\"ch:.25\", data=pcs, )\n"
   ]
  },
  {
   "cell_type": "markdown",
   "metadata": {
    "colab_type": "text",
    "id": "C-pbfvDsGUY_"
   },
   "source": [
    "the overwhelming majority of people are not in the workforce. lets see if age group has anything to do with it"
   ]
  },
  {
   "cell_type": "code",
   "execution_count": null,
   "metadata": {
    "colab": {},
    "colab_type": "code",
    "id": "9NlfGW3L_ZKS"
   },
   "outputs": [],
   "source": [
    "f, axes = plt.subplots( sharey=True, figsize=(15, 8))\n",
    "sns.countplot(x=\"age_group\", palette=\"ch:.25\", data=pcs, )"
   ]
  },
  {
   "cell_type": "markdown",
   "metadata": {
    "colab_type": "text",
    "id": "ODiNQv2bGxB2"
   },
   "source": [
    "This does not really inform me of anything. Which means I cannot tell if these are majority older people, Lets try looking at `medicare_insurance`\n"
   ]
  },
  {
   "cell_type": "code",
   "execution_count": null,
   "metadata": {
    "colab": {},
    "colab_type": "code",
    "id": "dx6mnktQHRlq"
   },
   "outputs": [],
   "source": [
    "f, axes = plt.subplots( sharey=True, figsize=(15, 8))\n",
    "sns.countplot(x=\"medicare_insurance\", color=\"c\", data=pcs, )"
   ]
  },
  {
   "cell_type": "code",
   "execution_count": null,
   "metadata": {
    "colab": {},
    "colab_type": "code",
    "id": "8xJCLhBf99Mf"
   },
   "outputs": [],
   "source": [
    "print(pcs['medicare_insurance'].value_counts(normalize = True))\n",
    "# https://en.wikipedia.org/wiki/Medicare_(United_States)\n",
    "# most medicare recepiants are older. lets check percentages to see fewest retirees"
   ]
  },
  {
   "cell_type": "code",
   "execution_count": null,
   "metadata": {
    "colab": {},
    "colab_type": "code",
    "id": "1OQ7WMTQL0CZ"
   },
   "outputs": [],
   "source": [
    "print(pcs['employment_status'].value_counts(normalize = True))"
   ]
  },
  {
   "cell_type": "code",
   "execution_count": null,
   "metadata": {
    "colab": {},
    "colab_type": "code",
    "id": "yzmUUTw8MvqD"
   },
   "outputs": [],
   "source": [
    "# ttest of one sample because same group with two percentages\n",
    "# Null Hypothesis: number of people on medicare outside of workforce is small\n",
    "# Alternate Hypothesis: number of people on medicare outside workforce is large\n"
   ]
  },
  {
   "cell_type": "code",
   "execution_count": null,
   "metadata": {
    "colab": {},
    "colab_type": "code",
    "id": "zygufceEwCbr"
   },
   "outputs": [],
   "source": [
    "pcs.columns"
   ]
  },
  {
   "cell_type": "code",
   "execution_count": null,
   "metadata": {
    "colab": {},
    "colab_type": "code",
    "id": "Uy5fSjHx8EdW"
   },
   "outputs": [],
   "source": [
    "pd.crosstab( pcs.diabetes, columns=[pcs.employment_status],  margins=True, normalize=True)"
   ]
  },
  {
   "cell_type": "markdown",
   "metadata": {
    "colab_type": "text",
    "id": "0DuZM6i7-otW"
   },
   "source": [
    "### Normalizing for population shows that those outside the workforce experience diabetes at a markedly higher rate, 8.5% versus the 0.03% in all other cases"
   ]
  },
  {
   "cell_type": "code",
   "execution_count": null,
   "metadata": {
    "colab": {},
    "colab_type": "code",
    "id": "EerNyH4PG8S-"
   },
   "outputs": [],
   "source": [
    "# I will start by setting creating a new 2017, 2015, and 2013 dataset\n",
    "url2017 = \"https://raw.githubusercontent.com/qweliant/GenderAndSex/master/pcs2017.csv?token=AII7DUPIC5EVAMELYX4PIZK6MRTNW\" \n",
    "url2015 = \"https://raw.githubusercontent.com/qweliant/GenderAndSex/master/pcs2015.csv?token=AII7DUICYVI4PRR3WQC5PAC6MRTFC\"\n",
    "url2013 = \"https://raw.githubusercontent.com/qweliant/GenderAndSex/master/pcs2013.csv?token=AII7DULFZ4LD3FIMZJD5SKK6MRTLK\""
   ]
  },
  {
   "cell_type": "code",
   "execution_count": null,
   "metadata": {
    "colab": {},
    "colab_type": "code",
    "id": "gKoVjGs3vYZ9"
   },
   "outputs": [],
   "source": [
    "pcs2017 = pd.read_csv(url2017)\n",
    "pcs2015 = pd.read_csv(url2015)\n",
    "# pcs2013 = pd.read_csv(url2013)"
   ]
  },
  {
   "cell_type": "code",
   "execution_count": null,
   "metadata": {
    "colab": {},
    "colab_type": "code",
    "id": "QXSAWNUyQwyh"
   },
   "outputs": [],
   "source": [
    "print(pcs2017.shape)\n",
    "print(pcs2015.shape)\n",
    "# print(pcs2013.shape)"
   ]
  },
  {
   "cell_type": "code",
   "execution_count": null,
   "metadata": {
    "colab": {},
    "colab_type": "code",
    "id": "iuCS0EZjUFmh"
   },
   "outputs": [],
   "source": [
    "format(pcs2017)\n",
    "format(pcs2015)\n",
    "# format(pcs2013)"
   ]
  },
  {
   "cell_type": "code",
   "execution_count": null,
   "metadata": {
    "colab": {},
    "colab_type": "code",
    "id": "OiuzHUZQiTWl"
   },
   "outputs": [],
   "source": [
    "# pcs2013.head()"
   ]
  },
  {
   "cell_type": "code",
   "execution_count": null,
   "metadata": {},
   "outputs": [],
   "source": [
    "# print(pcs2013.columns, '\\n',pcs2015.columns, '\\n',pcs2017.columns)"
   ]
  },
  {
   "cell_type": "code",
   "execution_count": null,
   "metadata": {
    "colab": {},
    "colab_type": "code",
    "id": "vnq3IV5de3CC"
   },
   "outputs": [],
   "source": [
    "sns.heatmap(\n",
    "    pd.crosstab(\n",
    "        [pcs2017.mental_illness], \n",
    "        [pcs2017.employment_status], \n",
    "        normalize=True),\n",
    "    cmap=\"YlGnBu\", annot=True, cbar=False)"
   ]
  },
  {
   "cell_type": "code",
   "execution_count": null,
   "metadata": {
    "colab": {},
    "colab_type": "code",
    "id": "dILNpgZxz4a1"
   },
   "outputs": [],
   "source": [
    "pcs2017['mental_illness'].value_counts(normalize=True)"
   ]
  },
  {
   "cell_type": "code",
   "execution_count": null,
   "metadata": {
    "colab": {},
    "colab_type": "code",
    "id": "UdQtRz7hHjnB"
   },
   "outputs": [],
   "source": [
    "pcs2015['mental_illness'].value_counts(normalize=True)\n"
   ]
  },
  {
   "cell_type": "code",
   "execution_count": null,
   "metadata": {
    "colab": {},
    "colab_type": "code",
    "id": "P9ftlAzrH0D_"
   },
   "outputs": [],
   "source": [
    "# pcs2013['mental_illness'].value_counts(normalize=True)\n"
   ]
  },
  {
   "cell_type": "markdown",
   "metadata": {
    "colab_type": "text",
    "id": "XO5cGMZzqL2S"
   },
   "source": [
    "Mental illness in out of work respondants accounts for a signaficant portion of those out of work. But does this make sense? It would seem the reason behind the large amount of people in this dataset absent from the workforce would be the overwhelming amount of participants with a mental illness, but that is supposition. What can we do now if the majority of the population exist outside of the workforce. \n"
   ]
  },
  {
   "cell_type": "markdown",
   "metadata": {
    "colab_type": "text",
    "id": "M0DGf65C0zBa"
   },
   "source": []
  },
  {
   "cell_type": "code",
   "execution_count": null,
   "metadata": {
    "colab": {},
    "colab_type": "code",
    "id": "HwaUNpNJupcJ"
   },
   "outputs": [],
   "source": [
    "# sns.heatmap(pd.crosstab([pcs2017.employment_status], [pcs2017.living_situation], normalize=True),\n",
    "#             cmap=\"YlGnBu\", annot=True, cbar=False)"
   ]
  },
  {
   "cell_type": "code",
   "execution_count": null,
   "metadata": {
    "colab": {},
    "colab_type": "code",
    "id": "wi469ue_tcgE"
   },
   "outputs": [],
   "source": [
    "sns.heatmap(pd.crosstab([pcs2017.race, pcs2017.hispanic_ethnicity], [pcs2017.mental_illness], normalize=True),\n",
    "            cmap=\"YlGnBu\", annot=True, cbar=False)"
   ]
  },
  {
   "cell_type": "code",
   "execution_count": null,
   "metadata": {
    "colab": {},
    "colab_type": "code",
    "id": "db2rEkjfDtvQ"
   },
   "outputs": [],
   "source": [
    "sns.heatmap(pd.crosstab([pcs2017.race, pcs2017.hispanic_ethnicity], [pcs2017.hearing_visual_impairment], normalize=True),\n",
    "            cmap=\"YlGnBu\", annot=True, cbar=False)"
   ]
  },
  {
   "cell_type": "code",
   "execution_count": null,
   "metadata": {
    "colab": {},
    "colab_type": "code",
    "id": "qgV4AX0BJDXO"
   },
   "outputs": [],
   "source": [
    "sns.heatmap(pd.crosstab([pcs2017.sex], [pcs2017.hearing_visual_impairment], normalize=True),\n",
    "            cmap=\"YlGnBu\", annot=True, cbar=False)\n",
    "# sex differences do not seem to play a role "
   ]
  },
  {
   "cell_type": "code",
   "execution_count": null,
   "metadata": {
    "colab": {},
    "colab_type": "code",
    "id": "lPA4MCKLnhGX"
   },
   "outputs": [],
   "source": [
    "# since a longitudinal approach would not be valid given the one week period of data collection and anonymized results,\n",
    "# I will merge the sets and begin looking at various demographics for to understand which grouo is at risk for what\n",
    "assert len(pcs2017.columns) == len(pcs2015.columns)\n",
    "assert len(pcs2017.columns) == len(pcs2013.columns)"
   ]
  },
  {
   "cell_type": "code",
   "execution_count": null,
   "metadata": {
    "colab": {},
    "colab_type": "code",
    "id": "HGOKkfPrNDfO"
   },
   "outputs": [],
   "source": [
    "pcs = pcs2017.append(pcs2015, sort=False, ignore_index=True)"
   ]
  },
  {
   "cell_type": "code",
   "execution_count": null,
   "metadata": {
    "colab": {},
    "colab_type": "code",
    "id": "ieGRyKi_RJBZ"
   },
   "outputs": [],
   "source": [
    "# pcs = pcs.append(pcs2013, sort=False, ignore_index=True)"
   ]
  },
  {
   "cell_type": "code",
   "execution_count": null,
   "metadata": {
    "colab": {},
    "colab_type": "code",
    "id": "tFgrYORC3A35"
   },
   "outputs": [],
   "source": [
    "# pcs2015.head()"
   ]
  },
  {
   "cell_type": "code",
   "execution_count": null,
   "metadata": {
    "colab": {},
    "colab_type": "code",
    "id": "eEqLZ8hl21kN"
   },
   "outputs": [],
   "source": [
    "# pcs2013.head()"
   ]
  },
  {
   "cell_type": "code",
   "execution_count": null,
   "metadata": {
    "colab": {},
    "colab_type": "code",
    "id": "W_j9GgW9Uwb-"
   },
   "outputs": [],
   "source": [
    "format(pcs)\n",
    "pcs.columns"
   ]
  },
  {
   "cell_type": "code",
   "execution_count": null,
   "metadata": {
    "colab": {},
    "colab_type": "code",
    "id": "6QYR0opnSy-D"
   },
   "outputs": [],
   "source": [
    "# this line from above, lets see what we get now\n",
    "sns.heatmap(pd.crosstab([pcs.sex], [pcs.diabetes], normalize=True),\n",
    "            cmap=\"YlGnBu\", annot=True, cbar=False)\n",
    "# sex differences do not seem to play a role \n"
   ]
  },
  {
   "cell_type": "code",
   "execution_count": null,
   "metadata": {
    "colab": {},
    "colab_type": "code",
    "id": "6vY1f97OV_ap"
   },
   "outputs": [],
   "source": [
    "sns.heatmap(pd.crosstab([pcs.sex], [pcs.pulmonary_asthma], normalize=True),\n",
    "            cmap=\"YlGnBu\", annot=True, cbar=False)"
   ]
  },
  {
   "cell_type": "code",
   "execution_count": null,
   "metadata": {
    "colab": {},
    "colab_type": "code",
    "id": "5wZo5hXwWZZT"
   },
   "outputs": [],
   "source": [
    "f, axes = pyplot.subplots( sharey=True, figsize=(11, 4))\n",
    "sns.heatmap(\n",
    "    pd.crosstab([pcs.sex], [pcs.principal_diagnosis_class], \n",
    "    normalize=True),\n",
    "    cmap=\"YlGnBu\", \n",
    "    annot=True, \n",
    "    cbar=False)"
   ]
  },
  {
   "cell_type": "code",
   "execution_count": null,
   "metadata": {},
   "outputs": [],
   "source": []
  },
  {
   "cell_type": "code",
   "execution_count": null,
   "metadata": {},
   "outputs": [],
   "source": []
  }
 ],
 "metadata": {
  "colab": {
   "collapsed_sections": [],
   "include_colab_link": true,
   "name": "Gender and Sex",
   "private_outputs": true,
   "provenance": []
  },
  "kernelspec": {
   "display_name": "Python 3",
   "language": "python",
   "name": "python3"
  },
  "language_info": {
   "codemirror_mode": {
    "name": "ipython",
    "version": 3
   },
   "file_extension": ".py",
   "mimetype": "text/x-python",
   "name": "python",
   "nbconvert_exporter": "python",
   "pygments_lexer": "ipython3",
   "version": "3.7.7"
  }
 },
 "nbformat": 4,
 "nbformat_minor": 4
}
