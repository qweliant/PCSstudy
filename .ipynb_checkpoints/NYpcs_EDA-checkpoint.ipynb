{
 "cells": [
  {
   "cell_type": "code",
   "execution_count": 1,
   "metadata": {},
   "outputs": [],
   "source": [
    "import numpy as np\n",
    "import matplotlib.pyplot as plt\n",
    "from scipy import stats\n",
    "import seaborn as sns\n",
    "import plotly.graph_objects as go \n",
    "import plotly.express as px\n",
    "import pandas as pd"
   ]
  },
  {
   "cell_type": "code",
   "execution_count": 2,
   "metadata": {},
   "outputs": [],
   "source": [
    "pd.set_option('display.max_rows', 500)\n",
    "pd.set_option('display.max_columns', 500)\n",
    "pd.set_option('display.width', 1000)"
   ]
  },
  {
   "cell_type": "code",
   "execution_count": 3,
   "metadata": {},
   "outputs": [],
   "source": [
    "pcs = pd.read_csv('data/pcs.csv')"
   ]
  },
  {
   "cell_type": "code",
   "execution_count": 4,
   "metadata": {},
   "outputs": [
    {
     "data": {
      "text/html": [
       "<div>\n",
       "<style scoped>\n",
       "    .dataframe tbody tr th:only-of-type {\n",
       "        vertical-align: middle;\n",
       "    }\n",
       "\n",
       "    .dataframe tbody tr th {\n",
       "        vertical-align: top;\n",
       "    }\n",
       "\n",
       "    .dataframe thead th {\n",
       "        text-align: right;\n",
       "    }\n",
       "</style>\n",
       "<table border=\"1\" class=\"dataframe\">\n",
       "  <thead>\n",
       "    <tr style=\"text-align: right;\">\n",
       "      <th></th>\n",
       "      <th>survey_year</th>\n",
       "      <th>program_category</th>\n",
       "      <th>region_served</th>\n",
       "      <th>age_group</th>\n",
       "      <th>sex</th>\n",
       "      <th>transgender</th>\n",
       "      <th>sexual_orientation</th>\n",
       "      <th>hispanic_ethnicity</th>\n",
       "      <th>race</th>\n",
       "      <th>living_situation</th>\n",
       "      <th>household_composition</th>\n",
       "      <th>preferred_language</th>\n",
       "      <th>veteran_status</th>\n",
       "      <th>employment_status</th>\n",
       "      <th>number_of_hours_worked_each_week</th>\n",
       "      <th>education_status</th>\n",
       "      <th>special_education_services</th>\n",
       "      <th>mental_illness</th>\n",
       "      <th>intellectual_disability</th>\n",
       "      <th>autism_spectrum</th>\n",
       "      <th>other_developmental_disability</th>\n",
       "      <th>alcohol_related_disorder</th>\n",
       "      <th>drug_substance_disorder</th>\n",
       "      <th>mobility_impairment_disorder</th>\n",
       "      <th>hearing_visual_impairment</th>\n",
       "      <th>hyperlipidemia</th>\n",
       "      <th>high_blood_pressure</th>\n",
       "      <th>diabetes</th>\n",
       "      <th>obesity</th>\n",
       "      <th>heart_attack</th>\n",
       "      <th>stroke</th>\n",
       "      <th>other_cardiac</th>\n",
       "      <th>pulmonary_asthma</th>\n",
       "      <th>alzheimer_or_dementia</th>\n",
       "      <th>kidney_disease</th>\n",
       "      <th>liver_disease</th>\n",
       "      <th>endocrine_condition</th>\n",
       "      <th>neurological_condition</th>\n",
       "      <th>traumatic_brain_injury</th>\n",
       "      <th>joint_disease</th>\n",
       "      <th>cancer</th>\n",
       "      <th>no_chronic_med_condition</th>\n",
       "      <th>unknown_chronic_med_condition</th>\n",
       "      <th>smokes</th>\n",
       "      <th>received_smoking_medication</th>\n",
       "      <th>received_smoking_counseling</th>\n",
       "      <th>serious_mental_illness</th>\n",
       "      <th>principal_diagnosis_class</th>\n",
       "      <th>additional_diagnosis_class</th>\n",
       "      <th>ssi_cash_assistance</th>\n",
       "      <th>ssdi_cash_assistance</th>\n",
       "      <th>veterans_disability_benefits</th>\n",
       "      <th>veterans_cash_assistance</th>\n",
       "      <th>public_assistance_cash_program</th>\n",
       "      <th>other_cash_benefits</th>\n",
       "      <th>medicaid_and_medicare_insurance</th>\n",
       "      <th>no_insurance</th>\n",
       "      <th>unknown_insurance_coverage</th>\n",
       "      <th>medicaid_insurance</th>\n",
       "      <th>medicaid_managed_insurance</th>\n",
       "      <th>medicare_insurance</th>\n",
       "      <th>private_insurance</th>\n",
       "      <th>child_health_plus_insurance</th>\n",
       "      <th>family_health_plus_insurance</th>\n",
       "      <th>other_insurance</th>\n",
       "      <th>criminal_justice_status</th>\n",
       "      <th>three_digit_residence_zip_code</th>\n",
       "      <th>other_chronic_med_condition</th>\n",
       "    </tr>\n",
       "  </thead>\n",
       "  <tbody>\n",
       "    <tr>\n",
       "      <th>0</th>\n",
       "      <td>2013</td>\n",
       "      <td>SUPPORT</td>\n",
       "      <td>WESTERN REGION</td>\n",
       "      <td>ADULT</td>\n",
       "      <td>FEMALE</td>\n",
       "      <td>NO, NOT TRANSGENDER</td>\n",
       "      <td>STRAIGHT OR HETEROSEXUAL</td>\n",
       "      <td>NO, NOT HISPANIC/LATINO</td>\n",
       "      <td>WHITE ONLY</td>\n",
       "      <td>PRIVATE RESIDENCE</td>\n",
       "      <td>UNKNOWN</td>\n",
       "      <td>ENGLISH</td>\n",
       "      <td>NO</td>\n",
       "      <td>UNKNOWN EMPLOYMENT STATUS</td>\n",
       "      <td>NOT APPLICABLE</td>\n",
       "      <td>UNKNOWN</td>\n",
       "      <td>NOT APPLICABLE</td>\n",
       "      <td>YES</td>\n",
       "      <td>NO</td>\n",
       "      <td>UNKNOWN</td>\n",
       "      <td>NO</td>\n",
       "      <td>UNKNOWN</td>\n",
       "      <td>UNKNOWN</td>\n",
       "      <td>NO</td>\n",
       "      <td>NO</td>\n",
       "      <td>UNKNOWN</td>\n",
       "      <td>UNKNOWN</td>\n",
       "      <td>UNKNOWN</td>\n",
       "      <td>UNKNOWN</td>\n",
       "      <td>UNKNOWN</td>\n",
       "      <td>UNKNOWN</td>\n",
       "      <td>UNKNOWN</td>\n",
       "      <td>UNKNOWN</td>\n",
       "      <td>UNKNOWN</td>\n",
       "      <td>UNKNOWN</td>\n",
       "      <td>UNKNOWN</td>\n",
       "      <td>UNKNOWN</td>\n",
       "      <td>UNKNOWN</td>\n",
       "      <td>UNKNOWN</td>\n",
       "      <td>UNKNOWN</td>\n",
       "      <td>UNKNOWN</td>\n",
       "      <td>UNKNOWN</td>\n",
       "      <td>YES</td>\n",
       "      <td>NO</td>\n",
       "      <td>NO</td>\n",
       "      <td>NO</td>\n",
       "      <td>YES</td>\n",
       "      <td>UNKNOWN/DEFERRED</td>\n",
       "      <td>UNKNOWN/DEFERRED</td>\n",
       "      <td>UNKNOWN</td>\n",
       "      <td>UNKNOWN</td>\n",
       "      <td>NO</td>\n",
       "      <td>NO</td>\n",
       "      <td>NO</td>\n",
       "      <td>UNKNOWN</td>\n",
       "      <td>UNKNOWN</td>\n",
       "      <td>UNKNOWN</td>\n",
       "      <td>YES</td>\n",
       "      <td>UNKNOWN</td>\n",
       "      <td>NOT APPLICABLE</td>\n",
       "      <td>UNKNOWN</td>\n",
       "      <td>UNKNOWN</td>\n",
       "      <td>UNKNOWN</td>\n",
       "      <td>UNKNOWN</td>\n",
       "      <td>UNKNOWN</td>\n",
       "      <td>UNKNOWN</td>\n",
       "      <td>999</td>\n",
       "      <td>UNKNOWN</td>\n",
       "    </tr>\n",
       "    <tr>\n",
       "      <th>1</th>\n",
       "      <td>2013</td>\n",
       "      <td>OUTPATIENT</td>\n",
       "      <td>NEW YORK CITY REGION</td>\n",
       "      <td>ADULT</td>\n",
       "      <td>FEMALE</td>\n",
       "      <td>NO, NOT TRANSGENDER</td>\n",
       "      <td>STRAIGHT OR HETEROSEXUAL</td>\n",
       "      <td>NO, NOT HISPANIC/LATINO</td>\n",
       "      <td>OTHER</td>\n",
       "      <td>PRIVATE RESIDENCE</td>\n",
       "      <td>COHABITATES WITH OTHERS</td>\n",
       "      <td>ASIAN AND PACIFIC ISLAND</td>\n",
       "      <td>NO</td>\n",
       "      <td>EMPLOYED</td>\n",
       "      <td>35 HOURS OR MORE</td>\n",
       "      <td>MIDDLE SCHOOL TO HIGH SCHOOL</td>\n",
       "      <td>NOT APPLICABLE</td>\n",
       "      <td>YES</td>\n",
       "      <td>NO</td>\n",
       "      <td>NO</td>\n",
       "      <td>NO</td>\n",
       "      <td>NO</td>\n",
       "      <td>NO</td>\n",
       "      <td>NO</td>\n",
       "      <td>NO</td>\n",
       "      <td>NO</td>\n",
       "      <td>YES</td>\n",
       "      <td>NO</td>\n",
       "      <td>YES</td>\n",
       "      <td>NO</td>\n",
       "      <td>NO</td>\n",
       "      <td>NO</td>\n",
       "      <td>NO</td>\n",
       "      <td>NO</td>\n",
       "      <td>NO</td>\n",
       "      <td>NO</td>\n",
       "      <td>YES</td>\n",
       "      <td>NO</td>\n",
       "      <td>NO</td>\n",
       "      <td>YES</td>\n",
       "      <td>NO</td>\n",
       "      <td>NO</td>\n",
       "      <td>NO</td>\n",
       "      <td>NO</td>\n",
       "      <td>NO</td>\n",
       "      <td>NO</td>\n",
       "      <td>YES</td>\n",
       "      <td>MENTAL ILLNESS</td>\n",
       "      <td>UNKNOWN/DEFERRED</td>\n",
       "      <td>NO</td>\n",
       "      <td>NO</td>\n",
       "      <td>NO</td>\n",
       "      <td>NO</td>\n",
       "      <td>NO</td>\n",
       "      <td>NO</td>\n",
       "      <td>NO</td>\n",
       "      <td>NO</td>\n",
       "      <td>NO</td>\n",
       "      <td>NO</td>\n",
       "      <td>NOT APPLICABLE</td>\n",
       "      <td>NO</td>\n",
       "      <td>YES</td>\n",
       "      <td>NO</td>\n",
       "      <td>NO</td>\n",
       "      <td>NO</td>\n",
       "      <td>NO</td>\n",
       "      <td>112</td>\n",
       "      <td>UNKNOWN</td>\n",
       "    </tr>\n",
       "    <tr>\n",
       "      <th>2</th>\n",
       "      <td>2013</td>\n",
       "      <td>OUTPATIENT</td>\n",
       "      <td>WESTERN REGION</td>\n",
       "      <td>ADULT</td>\n",
       "      <td>MALE</td>\n",
       "      <td>NO, NOT TRANSGENDER</td>\n",
       "      <td>STRAIGHT OR HETEROSEXUAL</td>\n",
       "      <td>NO, NOT HISPANIC/LATINO</td>\n",
       "      <td>BLACK ONLY</td>\n",
       "      <td>PRIVATE RESIDENCE</td>\n",
       "      <td>COHABITATES WITH OTHERS</td>\n",
       "      <td>ENGLISH</td>\n",
       "      <td>NO</td>\n",
       "      <td>UNEMPLOYED, LOOKING FOR WORK</td>\n",
       "      <td>NOT APPLICABLE</td>\n",
       "      <td>MIDDLE SCHOOL TO HIGH SCHOOL</td>\n",
       "      <td>NOT APPLICABLE</td>\n",
       "      <td>YES</td>\n",
       "      <td>NO</td>\n",
       "      <td>NO</td>\n",
       "      <td>NO</td>\n",
       "      <td>NO</td>\n",
       "      <td>NO</td>\n",
       "      <td>NO</td>\n",
       "      <td>NO</td>\n",
       "      <td>NO</td>\n",
       "      <td>NO</td>\n",
       "      <td>NO</td>\n",
       "      <td>NO</td>\n",
       "      <td>NO</td>\n",
       "      <td>NO</td>\n",
       "      <td>NO</td>\n",
       "      <td>NO</td>\n",
       "      <td>NO</td>\n",
       "      <td>NO</td>\n",
       "      <td>NO</td>\n",
       "      <td>NO</td>\n",
       "      <td>NO</td>\n",
       "      <td>NO</td>\n",
       "      <td>YES</td>\n",
       "      <td>NO</td>\n",
       "      <td>NO</td>\n",
       "      <td>NO</td>\n",
       "      <td>UNKNOWN</td>\n",
       "      <td>NO</td>\n",
       "      <td>NO</td>\n",
       "      <td>NO</td>\n",
       "      <td>MENTAL ILLNESS</td>\n",
       "      <td>UNKNOWN/DEFERRED</td>\n",
       "      <td>NO</td>\n",
       "      <td>NO</td>\n",
       "      <td>NO</td>\n",
       "      <td>NO</td>\n",
       "      <td>NO</td>\n",
       "      <td>NO</td>\n",
       "      <td>NO</td>\n",
       "      <td>NO</td>\n",
       "      <td>NO</td>\n",
       "      <td>YES</td>\n",
       "      <td>NO</td>\n",
       "      <td>NO</td>\n",
       "      <td>NO</td>\n",
       "      <td>NO</td>\n",
       "      <td>NO</td>\n",
       "      <td>NO</td>\n",
       "      <td>NO</td>\n",
       "      <td>146</td>\n",
       "      <td>UNKNOWN</td>\n",
       "    </tr>\n",
       "    <tr>\n",
       "      <th>3</th>\n",
       "      <td>2013</td>\n",
       "      <td>OUTPATIENT</td>\n",
       "      <td>NEW YORK CITY REGION</td>\n",
       "      <td>ADULT</td>\n",
       "      <td>FEMALE</td>\n",
       "      <td>NO, NOT TRANSGENDER</td>\n",
       "      <td>STRAIGHT OR HETEROSEXUAL</td>\n",
       "      <td>NO, NOT HISPANIC/LATINO</td>\n",
       "      <td>WHITE ONLY</td>\n",
       "      <td>PRIVATE RESIDENCE</td>\n",
       "      <td>COHABITATES WITH OTHERS</td>\n",
       "      <td>ENGLISH</td>\n",
       "      <td>NO</td>\n",
       "      <td>NOT IN LABOR FORCE:UNEMPLOYED AND NOT LOOKING ...</td>\n",
       "      <td>NOT APPLICABLE</td>\n",
       "      <td>MIDDLE SCHOOL TO HIGH SCHOOL</td>\n",
       "      <td>NOT APPLICABLE</td>\n",
       "      <td>YES</td>\n",
       "      <td>NO</td>\n",
       "      <td>NO</td>\n",
       "      <td>NO</td>\n",
       "      <td>NO</td>\n",
       "      <td>NO</td>\n",
       "      <td>NO</td>\n",
       "      <td>NO</td>\n",
       "      <td>YES</td>\n",
       "      <td>NO</td>\n",
       "      <td>NO</td>\n",
       "      <td>NO</td>\n",
       "      <td>NO</td>\n",
       "      <td>NO</td>\n",
       "      <td>YES</td>\n",
       "      <td>NO</td>\n",
       "      <td>NO</td>\n",
       "      <td>NO</td>\n",
       "      <td>NO</td>\n",
       "      <td>NO</td>\n",
       "      <td>NO</td>\n",
       "      <td>NO</td>\n",
       "      <td>YES</td>\n",
       "      <td>NO</td>\n",
       "      <td>NO</td>\n",
       "      <td>NO</td>\n",
       "      <td>NO</td>\n",
       "      <td>NO</td>\n",
       "      <td>NO</td>\n",
       "      <td>YES</td>\n",
       "      <td>MENTAL ILLNESS</td>\n",
       "      <td>MENTAL ILLNESS</td>\n",
       "      <td>NO</td>\n",
       "      <td>YES</td>\n",
       "      <td>NO</td>\n",
       "      <td>NO</td>\n",
       "      <td>NO</td>\n",
       "      <td>NO</td>\n",
       "      <td>NO</td>\n",
       "      <td>NO</td>\n",
       "      <td>NO</td>\n",
       "      <td>NO</td>\n",
       "      <td>NOT APPLICABLE</td>\n",
       "      <td>YES</td>\n",
       "      <td>NO</td>\n",
       "      <td>NO</td>\n",
       "      <td>NO</td>\n",
       "      <td>NO</td>\n",
       "      <td>NO</td>\n",
       "      <td>103</td>\n",
       "      <td>UNKNOWN</td>\n",
       "    </tr>\n",
       "    <tr>\n",
       "      <th>4</th>\n",
       "      <td>2013</td>\n",
       "      <td>OUTPATIENT</td>\n",
       "      <td>CENTRAL NY REGION</td>\n",
       "      <td>CHILD</td>\n",
       "      <td>MALE</td>\n",
       "      <td>NO, NOT TRANSGENDER</td>\n",
       "      <td>STRAIGHT OR HETEROSEXUAL</td>\n",
       "      <td>NO, NOT HISPANIC/LATINO</td>\n",
       "      <td>WHITE ONLY</td>\n",
       "      <td>PRIVATE RESIDENCE</td>\n",
       "      <td>COHABITATES WITH OTHERS</td>\n",
       "      <td>ENGLISH</td>\n",
       "      <td>NO</td>\n",
       "      <td>NOT IN LABOR FORCE:UNEMPLOYED AND NOT LOOKING ...</td>\n",
       "      <td>NOT APPLICABLE</td>\n",
       "      <td>PRE-K TO FIFTH GRADE</td>\n",
       "      <td>NO</td>\n",
       "      <td>YES</td>\n",
       "      <td>NO</td>\n",
       "      <td>NO</td>\n",
       "      <td>NO</td>\n",
       "      <td>NO</td>\n",
       "      <td>NO</td>\n",
       "      <td>NO</td>\n",
       "      <td>NO</td>\n",
       "      <td>NO</td>\n",
       "      <td>NO</td>\n",
       "      <td>NO</td>\n",
       "      <td>NO</td>\n",
       "      <td>NO</td>\n",
       "      <td>NO</td>\n",
       "      <td>NO</td>\n",
       "      <td>NO</td>\n",
       "      <td>NO</td>\n",
       "      <td>NO</td>\n",
       "      <td>NO</td>\n",
       "      <td>NO</td>\n",
       "      <td>NO</td>\n",
       "      <td>NO</td>\n",
       "      <td>NO</td>\n",
       "      <td>NO</td>\n",
       "      <td>YES</td>\n",
       "      <td>NO</td>\n",
       "      <td>NO</td>\n",
       "      <td>NO</td>\n",
       "      <td>NO</td>\n",
       "      <td>YES</td>\n",
       "      <td>MENTAL ILLNESS</td>\n",
       "      <td>UNKNOWN/DEFERRED</td>\n",
       "      <td>NO</td>\n",
       "      <td>NO</td>\n",
       "      <td>NO</td>\n",
       "      <td>NO</td>\n",
       "      <td>NO</td>\n",
       "      <td>NO</td>\n",
       "      <td>NO</td>\n",
       "      <td>NO</td>\n",
       "      <td>NO</td>\n",
       "      <td>YES</td>\n",
       "      <td>NO</td>\n",
       "      <td>NO</td>\n",
       "      <td>NO</td>\n",
       "      <td>YES</td>\n",
       "      <td>NO</td>\n",
       "      <td>NO</td>\n",
       "      <td>NO</td>\n",
       "      <td>137</td>\n",
       "      <td>UNKNOWN</td>\n",
       "    </tr>\n",
       "  </tbody>\n",
       "</table>\n",
       "</div>"
      ],
      "text/plain": [
       "   survey_year program_category         region_served age_group     sex          transgender        sexual_orientation       hispanic_ethnicity        race   living_situation    household_composition        preferred_language veteran_status                                  employment_status number_of_hours_worked_each_week              education_status special_education_services mental_illness intellectual_disability autism_spectrum other_developmental_disability alcohol_related_disorder drug_substance_disorder mobility_impairment_disorder hearing_visual_impairment hyperlipidemia high_blood_pressure diabetes  obesity heart_attack   stroke other_cardiac pulmonary_asthma alzheimer_or_dementia kidney_disease liver_disease endocrine_condition neurological_condition traumatic_brain_injury joint_disease   cancer no_chronic_med_condition unknown_chronic_med_condition   smokes received_smoking_medication received_smoking_counseling serious_mental_illness principal_diagnosis_class  \\\n",
       "0         2013          SUPPORT        WESTERN REGION     ADULT  FEMALE  NO, NOT TRANSGENDER  STRAIGHT OR HETEROSEXUAL  NO, NOT HISPANIC/LATINO  WHITE ONLY  PRIVATE RESIDENCE                  UNKNOWN                   ENGLISH             NO                          UNKNOWN EMPLOYMENT STATUS                   NOT APPLICABLE                       UNKNOWN             NOT APPLICABLE            YES                      NO         UNKNOWN                             NO                  UNKNOWN                 UNKNOWN                           NO                        NO        UNKNOWN             UNKNOWN  UNKNOWN  UNKNOWN      UNKNOWN  UNKNOWN       UNKNOWN          UNKNOWN               UNKNOWN        UNKNOWN       UNKNOWN             UNKNOWN                UNKNOWN                UNKNOWN       UNKNOWN  UNKNOWN                  UNKNOWN                           YES       NO                          NO                          NO                    YES          UNKNOWN/DEFERRED   \n",
       "1         2013       OUTPATIENT  NEW YORK CITY REGION     ADULT  FEMALE  NO, NOT TRANSGENDER  STRAIGHT OR HETEROSEXUAL  NO, NOT HISPANIC/LATINO       OTHER  PRIVATE RESIDENCE  COHABITATES WITH OTHERS  ASIAN AND PACIFIC ISLAND             NO                                           EMPLOYED                 35 HOURS OR MORE  MIDDLE SCHOOL TO HIGH SCHOOL             NOT APPLICABLE            YES                      NO              NO                             NO                       NO                      NO                           NO                        NO             NO                 YES       NO      YES           NO       NO            NO               NO                    NO             NO            NO                 YES                     NO                     NO           YES       NO                       NO                            NO       NO                          NO                          NO                    YES            MENTAL ILLNESS   \n",
       "2         2013       OUTPATIENT        WESTERN REGION     ADULT    MALE  NO, NOT TRANSGENDER  STRAIGHT OR HETEROSEXUAL  NO, NOT HISPANIC/LATINO  BLACK ONLY  PRIVATE RESIDENCE  COHABITATES WITH OTHERS                   ENGLISH             NO                       UNEMPLOYED, LOOKING FOR WORK                   NOT APPLICABLE  MIDDLE SCHOOL TO HIGH SCHOOL             NOT APPLICABLE            YES                      NO              NO                             NO                       NO                      NO                           NO                        NO             NO                  NO       NO       NO           NO       NO            NO               NO                    NO             NO            NO                  NO                     NO                     NO           YES       NO                       NO                            NO  UNKNOWN                          NO                          NO                     NO            MENTAL ILLNESS   \n",
       "3         2013       OUTPATIENT  NEW YORK CITY REGION     ADULT  FEMALE  NO, NOT TRANSGENDER  STRAIGHT OR HETEROSEXUAL  NO, NOT HISPANIC/LATINO  WHITE ONLY  PRIVATE RESIDENCE  COHABITATES WITH OTHERS                   ENGLISH             NO  NOT IN LABOR FORCE:UNEMPLOYED AND NOT LOOKING ...                   NOT APPLICABLE  MIDDLE SCHOOL TO HIGH SCHOOL             NOT APPLICABLE            YES                      NO              NO                             NO                       NO                      NO                           NO                        NO            YES                  NO       NO       NO           NO       NO           YES               NO                    NO             NO            NO                  NO                     NO                     NO           YES       NO                       NO                            NO       NO                          NO                          NO                    YES            MENTAL ILLNESS   \n",
       "4         2013       OUTPATIENT     CENTRAL NY REGION     CHILD    MALE  NO, NOT TRANSGENDER  STRAIGHT OR HETEROSEXUAL  NO, NOT HISPANIC/LATINO  WHITE ONLY  PRIVATE RESIDENCE  COHABITATES WITH OTHERS                   ENGLISH             NO  NOT IN LABOR FORCE:UNEMPLOYED AND NOT LOOKING ...                   NOT APPLICABLE          PRE-K TO FIFTH GRADE                         NO            YES                      NO              NO                             NO                       NO                      NO                           NO                        NO             NO                  NO       NO       NO           NO       NO            NO               NO                    NO             NO            NO                  NO                     NO                     NO            NO       NO                      YES                            NO       NO                          NO                          NO                    YES            MENTAL ILLNESS   \n",
       "\n",
       "  additional_diagnosis_class ssi_cash_assistance ssdi_cash_assistance veterans_disability_benefits veterans_cash_assistance public_assistance_cash_program other_cash_benefits medicaid_and_medicare_insurance no_insurance unknown_insurance_coverage medicaid_insurance medicaid_managed_insurance medicare_insurance private_insurance child_health_plus_insurance family_health_plus_insurance other_insurance criminal_justice_status  three_digit_residence_zip_code other_chronic_med_condition  \n",
       "0           UNKNOWN/DEFERRED             UNKNOWN              UNKNOWN                           NO                       NO                             NO             UNKNOWN                         UNKNOWN      UNKNOWN                        YES            UNKNOWN             NOT APPLICABLE            UNKNOWN           UNKNOWN                     UNKNOWN                      UNKNOWN         UNKNOWN                 UNKNOWN                             999                     UNKNOWN  \n",
       "1           UNKNOWN/DEFERRED                  NO                   NO                           NO                       NO                             NO                  NO                              NO           NO                         NO                 NO             NOT APPLICABLE                 NO               YES                          NO                           NO              NO                      NO                             112                     UNKNOWN  \n",
       "2           UNKNOWN/DEFERRED                  NO                   NO                           NO                       NO                             NO                  NO                              NO           NO                         NO                YES                         NO                 NO                NO                          NO                           NO              NO                      NO                             146                     UNKNOWN  \n",
       "3             MENTAL ILLNESS                  NO                  YES                           NO                       NO                             NO                  NO                              NO           NO                         NO                 NO             NOT APPLICABLE                YES                NO                          NO                           NO              NO                      NO                             103                     UNKNOWN  \n",
       "4           UNKNOWN/DEFERRED                  NO                   NO                           NO                       NO                             NO                  NO                              NO           NO                         NO                YES                         NO                 NO                NO                         YES                           NO              NO                      NO                             137                     UNKNOWN  "
      ]
     },
     "execution_count": 4,
     "metadata": {},
     "output_type": "execute_result"
    }
   ],
   "source": [
    "pcs.head()"
   ]
  },
  {
   "cell_type": "markdown",
   "metadata": {},
   "source": [
    "Lets check out how many people on this sruvey has mental illness"
   ]
  },
  {
   "cell_type": "code",
   "execution_count": 5,
   "metadata": {},
   "outputs": [
    {
     "data": {
      "text/plain": [
       "YES        0.949670\n",
       "NO         0.040709\n",
       "UNKNOWN    0.009621\n",
       "Name: mental_illness, dtype: float64"
      ]
     },
     "execution_count": 5,
     "metadata": {},
     "output_type": "execute_result"
    }
   ],
   "source": [
    "pcs['mental_illness'].value_counts(normalize=True)"
   ]
  },
  {
   "cell_type": "code",
   "execution_count": 6,
   "metadata": {},
   "outputs": [
    {
     "data": {
      "text/plain": [
       "<matplotlib.axes._subplots.AxesSubplot at 0x12e13c950>"
      ]
     },
     "execution_count": 6,
     "metadata": {},
     "output_type": "execute_result"
    },
    {
     "data": {
      "image/png": "[encoded data removed]",
      "text/plain": [
       "<Figure size 432x288 with 1 Axes>"
      ]
     },
     "metadata": {
      "needs_background": "light"
     },
     "output_type": "display_data"
    }
   ],
   "source": [
    "pcs['mental_illness'].hist()"
   ]
  },
  {
   "cell_type": "code",
   "execution_count": 19,
   "metadata": {},
   "outputs": [
    {
     "data": {
      "image/png": "[encoded data removed]",
      "text/plain": [
       "<Figure size 432x288 with 1 Axes>"
      ]
     },
     "metadata": {
      "needs_background": "light"
     },
     "output_type": "display_data"
    }
   ],
   "source": []
  },
  {
   "cell_type": "code",
   "execution_count": null,
   "metadata": {},
   "outputs": [],
   "source": [
    "sns.countplot(x=\"living_situation\", palette=\"ch:.25\", data=pcs, )"
   ]
  },
  {
   "cell_type": "code",
   "execution_count": null,
   "metadata": {},
   "outputs": [],
   "source": []
  },
  {
   "cell_type": "code",
   "execution_count": null,
   "metadata": {},
   "outputs": [],
   "source": []
  },
  {
   "cell_type": "markdown",
   "metadata": {},
   "source": [
    "The overwheming majority huh......"
   ]
  },
  {
   "cell_type": "code",
   "execution_count": 7,
   "metadata": {},
   "outputs": [
    {
     "data": {
      "text/plain": [
       "ADULT      0.797600\n",
       "CHILD      0.202241\n",
       "UNKNOWN    0.000159\n",
       "Name: age_group, dtype: float64"
      ]
     },
     "execution_count": 7,
     "metadata": {},
     "output_type": "execute_result"
    }
   ],
   "source": [
    "pcs['age_group'].value_counts(normalize=True)"
   ]
  },
  {
   "cell_type": "code",
   "execution_count": 8,
   "metadata": {},
   "outputs": [
    {
     "data": {
      "text/html": [
       "<div>\n",
       "<style scoped>\n",
       "    .dataframe tbody tr th:only-of-type {\n",
       "        vertical-align: middle;\n",
       "    }\n",
       "\n",
       "    .dataframe tbody tr th {\n",
       "        vertical-align: top;\n",
       "    }\n",
       "\n",
       "    .dataframe thead th {\n",
       "        text-align: right;\n",
       "    }\n",
       "</style>\n",
       "<table border=\"1\" class=\"dataframe\">\n",
       "  <thead>\n",
       "    <tr style=\"text-align: right;\">\n",
       "      <th>age_group</th>\n",
       "      <th>ADULT</th>\n",
       "      <th>CHILD</th>\n",
       "      <th>UNKNOWN</th>\n",
       "      <th>All</th>\n",
       "    </tr>\n",
       "    <tr>\n",
       "      <th>mental_illness</th>\n",
       "      <th></th>\n",
       "      <th></th>\n",
       "      <th></th>\n",
       "      <th></th>\n",
       "    </tr>\n",
       "  </thead>\n",
       "  <tbody>\n",
       "    <tr>\n",
       "      <th>NO</th>\n",
       "      <td>0.026610</td>\n",
       "      <td>0.014083</td>\n",
       "      <td>0.000016</td>\n",
       "      <td>0.040709</td>\n",
       "    </tr>\n",
       "    <tr>\n",
       "      <th>UNKNOWN</th>\n",
       "      <td>0.005896</td>\n",
       "      <td>0.003700</td>\n",
       "      <td>0.000026</td>\n",
       "      <td>0.009621</td>\n",
       "    </tr>\n",
       "    <tr>\n",
       "      <th>YES</th>\n",
       "      <td>0.765094</td>\n",
       "      <td>0.184458</td>\n",
       "      <td>0.000117</td>\n",
       "      <td>0.949670</td>\n",
       "    </tr>\n",
       "    <tr>\n",
       "      <th>All</th>\n",
       "      <td>0.797600</td>\n",
       "      <td>0.202241</td>\n",
       "      <td>0.000159</td>\n",
       "      <td>1.000000</td>\n",
       "    </tr>\n",
       "  </tbody>\n",
       "</table>\n",
       "</div>"
      ],
      "text/plain": [
       "age_group          ADULT     CHILD   UNKNOWN       All\n",
       "mental_illness                                        \n",
       "NO              0.026610  0.014083  0.000016  0.040709\n",
       "UNKNOWN         0.005896  0.003700  0.000026  0.009621\n",
       "YES             0.765094  0.184458  0.000117  0.949670\n",
       "All             0.797600  0.202241  0.000159  1.000000"
      ]
     },
     "execution_count": 8,
     "metadata": {},
     "output_type": "execute_result"
    }
   ],
   "source": [
    "pd.crosstab(pcs['mental_illness'], pcs['age_group'], normalize=True, margins=True)"
   ]
  },
  {
   "cell_type": "markdown",
   "metadata": {},
   "source": [
    "Children account for approximately 18 percent of mental illness patients"
   ]
  },
  {
   "cell_type": "code",
   "execution_count": 9,
   "metadata": {},
   "outputs": [
    {
     "data": {
      "text/html": [
       "<div>\n",
       "<style scoped>\n",
       "    .dataframe tbody tr th:only-of-type {\n",
       "        vertical-align: middle;\n",
       "    }\n",
       "\n",
       "    .dataframe tbody tr th {\n",
       "        vertical-align: top;\n",
       "    }\n",
       "\n",
       "    .dataframe thead th {\n",
       "        text-align: right;\n",
       "    }\n",
       "</style>\n",
       "<table border=\"1\" class=\"dataframe\">\n",
       "  <thead>\n",
       "    <tr style=\"text-align: right;\">\n",
       "      <th>sex</th>\n",
       "      <th>FEMALE</th>\n",
       "      <th>MALE</th>\n",
       "      <th>UNKNOWN</th>\n",
       "      <th>All</th>\n",
       "    </tr>\n",
       "    <tr>\n",
       "      <th>mental_illness</th>\n",
       "      <th></th>\n",
       "      <th></th>\n",
       "      <th></th>\n",
       "      <th></th>\n",
       "    </tr>\n",
       "  </thead>\n",
       "  <tbody>\n",
       "    <tr>\n",
       "      <th>NO</th>\n",
       "      <td>0.019737</td>\n",
       "      <td>0.019098</td>\n",
       "      <td>0.001874</td>\n",
       "      <td>0.040709</td>\n",
       "    </tr>\n",
       "    <tr>\n",
       "      <th>UNKNOWN</th>\n",
       "      <td>0.004794</td>\n",
       "      <td>0.004686</td>\n",
       "      <td>0.000141</td>\n",
       "      <td>0.009621</td>\n",
       "    </tr>\n",
       "    <tr>\n",
       "      <th>YES</th>\n",
       "      <td>0.475524</td>\n",
       "      <td>0.469441</td>\n",
       "      <td>0.004705</td>\n",
       "      <td>0.949670</td>\n",
       "    </tr>\n",
       "    <tr>\n",
       "      <th>All</th>\n",
       "      <td>0.500055</td>\n",
       "      <td>0.493226</td>\n",
       "      <td>0.006719</td>\n",
       "      <td>1.000000</td>\n",
       "    </tr>\n",
       "  </tbody>\n",
       "</table>\n",
       "</div>"
      ],
      "text/plain": [
       "sex               FEMALE      MALE   UNKNOWN       All\n",
       "mental_illness                                        \n",
       "NO              0.019737  0.019098  0.001874  0.040709\n",
       "UNKNOWN         0.004794  0.004686  0.000141  0.009621\n",
       "YES             0.475524  0.469441  0.004705  0.949670\n",
       "All             0.500055  0.493226  0.006719  1.000000"
      ]
     },
     "execution_count": 9,
     "metadata": {},
     "output_type": "execute_result"
    }
   ],
   "source": [
    "pd.crosstab(pcs['mental_illness'], pcs['sex'], normalize=True, margins=True)"
   ]
  },
  {
   "cell_type": "code",
   "execution_count": 10,
   "metadata": {},
   "outputs": [
    {
     "data": {
      "text/html": [
       "<div>\n",
       "<style scoped>\n",
       "    .dataframe tbody tr th:only-of-type {\n",
       "        vertical-align: middle;\n",
       "    }\n",
       "\n",
       "    .dataframe tbody tr th {\n",
       "        vertical-align: top;\n",
       "    }\n",
       "\n",
       "    .dataframe thead th {\n",
       "        text-align: right;\n",
       "    }\n",
       "</style>\n",
       "<table border=\"1\" class=\"dataframe\">\n",
       "  <thead>\n",
       "    <tr style=\"text-align: right;\">\n",
       "      <th>race</th>\n",
       "      <th>BLACK ONLY</th>\n",
       "      <th>MULTI-RACIAL</th>\n",
       "      <th>OTHER</th>\n",
       "      <th>UNKNOWN RACE</th>\n",
       "      <th>WHITE ONLY</th>\n",
       "      <th>All</th>\n",
       "    </tr>\n",
       "    <tr>\n",
       "      <th>mental_illness</th>\n",
       "      <th></th>\n",
       "      <th></th>\n",
       "      <th></th>\n",
       "      <th></th>\n",
       "      <th></th>\n",
       "      <th></th>\n",
       "    </tr>\n",
       "  </thead>\n",
       "  <tbody>\n",
       "    <tr>\n",
       "      <th>NO</th>\n",
       "      <td>0.008699</td>\n",
       "      <td>0.001047</td>\n",
       "      <td>0.007158</td>\n",
       "      <td>0.002974</td>\n",
       "      <td>0.020831</td>\n",
       "      <td>0.040709</td>\n",
       "    </tr>\n",
       "    <tr>\n",
       "      <th>UNKNOWN</th>\n",
       "      <td>0.002018</td>\n",
       "      <td>0.000143</td>\n",
       "      <td>0.001061</td>\n",
       "      <td>0.001427</td>\n",
       "      <td>0.004972</td>\n",
       "      <td>0.009621</td>\n",
       "    </tr>\n",
       "    <tr>\n",
       "      <th>YES</th>\n",
       "      <td>0.248779</td>\n",
       "      <td>0.029720</td>\n",
       "      <td>0.161166</td>\n",
       "      <td>0.026591</td>\n",
       "      <td>0.483412</td>\n",
       "      <td>0.949670</td>\n",
       "    </tr>\n",
       "    <tr>\n",
       "      <th>All</th>\n",
       "      <td>0.259497</td>\n",
       "      <td>0.030910</td>\n",
       "      <td>0.169386</td>\n",
       "      <td>0.030992</td>\n",
       "      <td>0.509215</td>\n",
       "      <td>1.000000</td>\n",
       "    </tr>\n",
       "  </tbody>\n",
       "</table>\n",
       "</div>"
      ],
      "text/plain": [
       "race            BLACK ONLY  MULTI-RACIAL     OTHER  UNKNOWN RACE  WHITE ONLY       All\n",
       "mental_illness                                                                        \n",
       "NO                0.008699      0.001047  0.007158      0.002974    0.020831  0.040709\n",
       "UNKNOWN           0.002018      0.000143  0.001061      0.001427    0.004972  0.009621\n",
       "YES               0.248779      0.029720  0.161166      0.026591    0.483412  0.949670\n",
       "All               0.259497      0.030910  0.169386      0.030992    0.509215  1.000000"
      ]
     },
     "execution_count": 10,
     "metadata": {},
     "output_type": "execute_result"
    }
   ],
   "source": [
    "pd.crosstab(pcs['mental_illness'], pcs['race'], normalize=True, margins=True)"
   ]
  },
  {
   "cell_type": "code",
   "execution_count": 11,
   "metadata": {},
   "outputs": [
    {
     "data": {
      "text/html": [
       "<div>\n",
       "<style scoped>\n",
       "    .dataframe tbody tr th:only-of-type {\n",
       "        vertical-align: middle;\n",
       "    }\n",
       "\n",
       "    .dataframe tbody tr th {\n",
       "        vertical-align: top;\n",
       "    }\n",
       "\n",
       "    .dataframe thead th {\n",
       "        text-align: right;\n",
       "    }\n",
       "</style>\n",
       "<table border=\"1\" class=\"dataframe\">\n",
       "  <thead>\n",
       "    <tr style=\"text-align: right;\">\n",
       "      <th>serious_mental_illness</th>\n",
       "      <th>NO</th>\n",
       "      <th>UNKNOWN</th>\n",
       "      <th>YES</th>\n",
       "      <th>All</th>\n",
       "    </tr>\n",
       "    <tr>\n",
       "      <th>mental_illness</th>\n",
       "      <th></th>\n",
       "      <th></th>\n",
       "      <th></th>\n",
       "      <th></th>\n",
       "    </tr>\n",
       "  </thead>\n",
       "  <tbody>\n",
       "    <tr>\n",
       "      <th>NO</th>\n",
       "      <td>0.033301</td>\n",
       "      <td>0.001005</td>\n",
       "      <td>0.006403</td>\n",
       "      <td>0.040709</td>\n",
       "    </tr>\n",
       "    <tr>\n",
       "      <th>UNKNOWN</th>\n",
       "      <td>0.006297</td>\n",
       "      <td>0.002077</td>\n",
       "      <td>0.001248</td>\n",
       "      <td>0.009621</td>\n",
       "    </tr>\n",
       "    <tr>\n",
       "      <th>YES</th>\n",
       "      <td>0.110549</td>\n",
       "      <td>0.003630</td>\n",
       "      <td>0.835491</td>\n",
       "      <td>0.949670</td>\n",
       "    </tr>\n",
       "    <tr>\n",
       "      <th>All</th>\n",
       "      <td>0.150147</td>\n",
       "      <td>0.006712</td>\n",
       "      <td>0.843141</td>\n",
       "      <td>1.000000</td>\n",
       "    </tr>\n",
       "  </tbody>\n",
       "</table>\n",
       "</div>"
      ],
      "text/plain": [
       "serious_mental_illness        NO   UNKNOWN       YES       All\n",
       "mental_illness                                                \n",
       "NO                      0.033301  0.001005  0.006403  0.040709\n",
       "UNKNOWN                 0.006297  0.002077  0.001248  0.009621\n",
       "YES                     0.110549  0.003630  0.835491  0.949670\n",
       "All                     0.150147  0.006712  0.843141  1.000000"
      ]
     },
     "execution_count": 11,
     "metadata": {},
     "output_type": "execute_result"
    }
   ],
   "source": [
    "pd.crosstab(pcs['mental_illness'], pcs['serious_mental_illness'], normalize=True, margins=True)"
   ]
  },
  {
   "cell_type": "markdown",
   "metadata": {},
   "source": [
    "Strangely enough, 84.3 percent of respondants have a serious mental illness, along with 94.9 percent who havve a mental illness "
   ]
  },
  {
   "cell_type": "code",
   "execution_count": 15,
   "metadata": {},
   "outputs": [
    {
     "data": {
      "text/plain": [
       "<matplotlib.axes._subplots.AxesSubplot at 0x1197ecf10>"
      ]
     },
     "execution_count": 15,
     "metadata": {},
     "output_type": "execute_result"
    },
    {
     "data": {
      "image/png": "[encoded data removed]",
      "text/plain": [
       "<Figure size 792x288 with 1 Axes>"
      ]
     },
     "metadata": {
      "needs_background": "light"
     },
     "output_type": "display_data"
    }
   ],
   "source": [
    "f, axes = plt.subplots( sharey=True, figsize=(11, 4))\n",
    "sns.countplot(x=\"living_situation\", palette=\"ch:.25\", data=pcs, )"
   ]
  },
  {
   "cell_type": "code",
   "execution_count": 16,
   "metadata": {},
   "outputs": [
    {
     "data": {
      "text/plain": [
       "PRIVATE RESIDENCE         0.776853\n",
       "OTHER LIVING SITUATION    0.176370\n",
       "UNKNOWN                   0.032784\n",
       "INSTITUTIONAL SETTING     0.013993\n",
       "Name: living_situation, dtype: float64"
      ]
     },
     "execution_count": 16,
     "metadata": {},
     "output_type": "execute_result"
    }
   ],
   "source": [
    "pcs['living_situation'].value_counts(normalize=True)"
   ]
  },
  {
   "cell_type": "code",
   "execution_count": null,
   "metadata": {},
   "outputs": [],
   "source": []
  },
  {
   "cell_type": "markdown",
   "metadata": {},
   "source": [
    "Most live in a private residence, but the second largest feature is other. With little info on that, I become curious as to the true state of 20% of the respondants"
   ]
  },
  {
   "cell_type": "code",
   "execution_count": 31,
   "metadata": {},
   "outputs": [
    {
     "data": {
      "text/plain": [
       "112    0.143071\n",
       "104    0.108854\n",
       "100    0.087152\n",
       "117    0.042738\n",
       "113    0.041494\n",
       "142    0.037130\n",
       "114    0.035517\n",
       "999    0.035347\n",
       "146    0.029386\n",
       "888    0.028396\n",
       "105    0.024910\n",
       "115    0.021689\n",
       "103    0.020161\n",
       "125    0.018174\n",
       "140    0.018103\n",
       "148    0.017133\n",
       "130    0.015678\n",
       "132    0.015607\n",
       "109    0.015537\n",
       "120    0.013427\n",
       "107    0.012536\n",
       "145    0.012264\n",
       "144    0.012112\n",
       "116    0.011945\n",
       "136    0.011830\n",
       "134    0.010430\n",
       "129    0.010381\n",
       "121    0.009962\n",
       "147    0.009910\n",
       "128    0.009437\n",
       "124    0.008353\n",
       "119    0.007806\n",
       "122    0.007744\n",
       "111    0.007080\n",
       "141    0.006937\n",
       "131    0.006877\n",
       "135    0.006545\n",
       "123    0.006130\n",
       "138    0.006128\n",
       "126    0.005978\n",
       "149    0.005945\n",
       "110    0.005848\n",
       "127    0.005810\n",
       "133    0.005277\n",
       "143    0.005274\n",
       "139    0.005131\n",
       "106    0.005113\n",
       "137    0.004555\n",
       "108    0.004015\n",
       "118    0.001576\n",
       "101    0.001568\n",
       "Name: three_digit_residence_zip_code, dtype: float64"
      ]
     },
     "execution_count": 31,
     "metadata": {},
     "output_type": "execute_result"
    }
   ],
   "source": [
    "pcs['three_digit_residence_zip_code'].value_counts(normalize=True)"
   ]
  },
  {
   "cell_type": "code",
   "execution_count": null,
   "metadata": {},
   "outputs": [],
   "source": []
  },
  {
   "cell_type": "code",
   "execution_count": 25,
   "metadata": {},
   "outputs": [],
   "source": [
    " l = pcs['three_digit_residence_zip_code'].value_counts(normalize=True)"
   ]
  },
  {
   "cell_type": "code",
   "execution_count": 30,
   "metadata": {},
   "outputs": [
    {
     "data": {
      "text/plain": [
       "0.5606889030397517"
      ]
     },
     "execution_count": 30,
     "metadata": {},
     "output_type": "execute_result"
    }
   ],
   "source": [
    "l.head(9).sum()"
   ]
  },
  {
   "cell_type": "markdown",
   "metadata": {},
   "source": [
    "Almost 25% of the group are accounted for with two zipcodes. With a wikipedia search, we see that comprises Brooklyn and The Bronx. Bring in income data for the region"
   ]
  },
  {
   "cell_type": "code",
   "execution_count": null,
   "metadata": {},
   "outputs": [],
   "source": []
  },
  {
   "cell_type": "code",
   "execution_count": null,
   "metadata": {},
   "outputs": [],
   "source": []
  },
  {
   "cell_type": "code",
   "execution_count": null,
   "metadata": {},
   "outputs": [],
   "source": []
  },
  {
   "cell_type": "code",
   "execution_count": null,
   "metadata": {},
   "outputs": [],
   "source": []
  },
  {
   "cell_type": "code",
   "execution_count": null,
   "metadata": {},
   "outputs": [],
   "source": []
  },
  {
   "cell_type": "code",
   "execution_count": 21,
   "metadata": {},
   "outputs": [
    {
     "data": {
      "text/plain": [
       "<matplotlib.axes._subplots.AxesSubplot at 0x11a9a46d0>"
      ]
     },
     "execution_count": 21,
     "metadata": {},
     "output_type": "execute_result"
    },
    {
     "data": {
      "image/png": "[encoded data removed]",
      "text/plain": [
       "<Figure size 432x288 with 2 Axes>"
      ]
     },
     "metadata": {
      "needs_background": "light"
     },
     "output_type": "display_data"
    }
   ],
   "source": [
    "sns.heatmap(\n",
    "    pd.crosstab(\n",
    "        [pcs.mental_illness], \n",
    "        [pcs.employment_status], \n",
    "        normalize=True))"
   ]
  },
  {
   "cell_type": "code",
   "execution_count": null,
   "metadata": {},
   "outputs": [],
   "source": []
  },
  {
   "cell_type": "code",
   "execution_count": null,
   "metadata": {},
   "outputs": [],
   "source": []
  }
 ],
 "metadata": {
  "kernelspec": {
   "display_name": "Python 3",
   "language": "python",
   "name": "python3"
  },
  "language_info": {
   "codemirror_mode": {
    "name": "ipython",
    "version": 3
   },
   "file_extension": ".py",
   "mimetype": "text/x-python",
   "name": "python",
   "nbconvert_exporter": "python",
   "pygments_lexer": "ipython3",
   "version": "3.7.7"
  }
 },
 "nbformat": 4,
 "nbformat_minor": 4
}
