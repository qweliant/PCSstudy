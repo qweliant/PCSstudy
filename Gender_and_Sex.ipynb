{
  "nbformat": 4,
  "nbformat_minor": 0,
  "metadata": {
    "colab": {
      "name": "Gender and Sex",
      "provenance": [],
      "private_outputs": true,
      "include_colab_link": true
    },
    "kernelspec": {
      "name": "python3",
      "display_name": "Python 3"
    }
  },
  "cells": [
    {
      "cell_type": "markdown",
      "metadata": {
        "id": "view-in-github",
        "colab_type": "text"
      },
      "source": [
        "<a href=\"https://colab.research.google.com/github/qweliant/GenderAndSex/blob/master/Gender_and_Sex.ipynb\" target=\"_parent\"><img src=\"https://colab.research.google.com/assets/colab-badge.svg\" alt=\"Open In Colab\"/></a>"
      ]
    },
    {
      "cell_type": "code",
      "metadata": {
        "id": "ZM8XS9rrHAds",
        "colab_type": "code",
        "colab": {}
      },
      "source": [
        "import pandas as pd\n",
        "import numpy as np\n",
        "import matplotlib.pyplot as plt\n",
        "from scipy import stats\n",
        "import seaborn as sns"
      ],
      "execution_count": 0,
      "outputs": []
    },
    {
      "cell_type": "code",
      "metadata": {
        "id": "kWxg4gi3Srf7",
        "colab_type": "code",
        "colab": {}
      },
      "source": [
        "# make json call to data.ny.gov\n",
        "api_ny = \"https://data.ny.gov/resource/8itk-gcdy.csv\""
      ],
      "execution_count": 0,
      "outputs": []
    },
    {
      "cell_type": "code",
      "metadata": {
        "id": "iYBZMZ-LTtLb",
        "colab_type": "code",
        "colab": {}
      },
      "source": [
        "# read and check shape, head\n",
        "df = pd.read_json(api_ny)"
      ],
      "execution_count": 0,
      "outputs": []
    }
  ]
}