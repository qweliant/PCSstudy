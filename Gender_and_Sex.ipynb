{
  "nbformat": 4,
  "nbformat_minor": 0,
  "metadata": {
    "colab": {
      "name": "Gender and Sex",
      "provenance": [],
      "private_outputs": true,
      "collapsed_sections": [],
      "include_colab_link": true
    },
    "kernelspec": {
      "display_name": "Python 3",
      "language": "python",
      "name": "python3"
    },
    "language_info": {
      "codemirror_mode": {
        "name": "ipython",
        "version": 3
      },
      "file_extension": ".py",
      "mimetype": "text/x-python",
      "name": "python",
      "nbconvert_exporter": "python",
      "pygments_lexer": "ipython3",
      "version": "3.8.1"
    }
  },
  "cells": [
    {
      "cell_type": "markdown",
      "metadata": {
        "id": "view-in-github",
        "colab_type": "text"
      },
      "source": [
        "<a href=\"https://colab.research.google.com/github/qweliant/GenderAndSex/blob/master/Gender_and_Sex.ipynb\" target=\"_parent\"><img src=\"https://colab.research.google.com/assets/colab-badge.svg\" alt=\"Open In Colab\"/></a>"
      ]
    },
    {
      "cell_type": "code",
      "metadata": {
        "colab_type": "code",
        "id": "ZM8XS9rrHAds",
        "colab": {}
      },
      "source": [
        "import pandas as pd\n",
        "import numpy as np\n",
        "import matplotlib.pyplot as plt\n",
        "from scipy import stats\n",
        "import seaborn as sns"
      ],
      "execution_count": 0,
      "outputs": []
    },
    {
      "cell_type": "code",
      "metadata": {
        "colab_type": "code",
        "id": "FPwu8eqpMa9Y",
        "colab": {}
      },
      "source": [
        "url = \"https://data.ny.gov/resource/8itk-gcdy.csv\" \n",
        "pcs = pd.read_csv(url)\n"
      ],
      "execution_count": 0,
      "outputs": []
    },
    {
      "cell_type": "code",
      "metadata": {
        "id": "xsvVWifB3HP-",
        "colab_type": "code",
        "colab": {}
      },
      "source": [
        "pcs.head()"
      ],
      "execution_count": 0,
      "outputs": []
    },
    {
      "cell_type": "markdown",
      "metadata": {
        "id": "Ty1a6xvh3o8i",
        "colab_type": "text"
      },
      "source": [
        "I want to check out employment_status and living_situation because it would bias assumptions about the data with a tilt too far one way or another\n"
      ]
    },
    {
      "cell_type": "code",
      "metadata": {
        "id": "I5aKQ6lZ4AoT",
        "colab_type": "code",
        "colab": {}
      },
      "source": [
        "pcs[pcs.isnull().any(axis=1)]"
      ],
      "execution_count": 0,
      "outputs": []
    },
    {
      "cell_type": "code",
      "metadata": {
        "id": "MbEgSvnS5LB7",
        "colab_type": "code",
        "colab": {}
      },
      "source": [
        "# no nulls so yay\n"
      ],
      "execution_count": 0,
      "outputs": []
    },
    {
      "cell_type": "code",
      "metadata": {
        "id": "Jlhyiqad5iWK",
        "colab_type": "code",
        "colab": {}
      },
      "source": [
        "# I can probs drob the survey date, lets make sure\n",
        "pcs['survey_year'].unique()"
      ],
      "execution_count": 0,
      "outputs": []
    },
    {
      "cell_type": "code",
      "metadata": {
        "id": "Pcm3ceR-5y7c",
        "colab_type": "code",
        "colab": {}
      },
      "source": [
        "pcs.drop(columns=['survey_year'], inplace=True)"
      ],
      "execution_count": 0,
      "outputs": []
    },
    {
      "cell_type": "code",
      "metadata": {
        "id": "Oe5lvU_s8yoT",
        "colab_type": "code",
        "colab": {}
      },
      "source": [
        "pcs['employment_status'].unique()"
      ],
      "execution_count": 0,
      "outputs": []
    },
    {
      "cell_type": "code",
      "metadata": {
        "id": "FGaP7QljA71U",
        "colab_type": "code",
        "colab": {}
      },
      "source": [
        "vals = {\n",
        "    'NOT IN LABOR FORCE:UNEMPLOYED AND NOT LOOKING FOR WORK' : 'out',\n",
        "    'UNEMPLOYED, LOOKING FOR WORK' : 'looking', \n",
        "    'EMPLOYED' : 'employed',\n",
        "    'UNKNOWN EMPLOYMENT STATUS' : 'unknown', \n",
        "    'NON-PAID/VOLUNTEER' : 'pro-bono'\n",
        "}\n",
        "\n",
        "pcs['employment_status'].replace(vals, inplace=True)"
      ],
      "execution_count": 0,
      "outputs": []
    },
    {
      "cell_type": "code",
      "metadata": {
        "id": "g6XWjbsA9T81",
        "colab_type": "code",
        "colab": {}
      },
      "source": [
        "import seaborn as sns\n",
        "from matplotlib import pyplot\n",
        "# pcs['employment_status'].value_counts().plot(kind='bar')\n",
        "f, axes = pyplot.subplots( sharey=True, figsize=(11, 15))\n",
        "sns.countplot(x=\"employment_status\", palette=\"ch:.25\", data=pcs, )\n"
      ],
      "execution_count": 0,
      "outputs": []
    },
    {
      "cell_type": "markdown",
      "metadata": {
        "id": "C-pbfvDsGUY_",
        "colab_type": "text"
      },
      "source": [
        "the overwhelming majority of people are not in the workforce. lets see if age group has anything to do with it"
      ]
    },
    {
      "cell_type": "code",
      "metadata": {
        "id": "9NlfGW3L_ZKS",
        "colab_type": "code",
        "colab": {}
      },
      "source": [
        "f, axes = pyplot.subplots( sharey=True, figsize=(15, 8))\n",
        "sns.countplot(x=\"age_group\", palette=\"ch:.25\", data=pcs, )"
      ],
      "execution_count": 0,
      "outputs": []
    },
    {
      "cell_type": "markdown",
      "metadata": {
        "id": "ODiNQv2bGxB2",
        "colab_type": "text"
      },
      "source": [
        "This does not really inform me of anything. Which means I cannot tell if these are majority older people, Lets try looking at `medicare_insurance`\n"
      ]
    },
    {
      "cell_type": "code",
      "metadata": {
        "id": "dx6mnktQHRlq",
        "colab_type": "code",
        "colab": {}
      },
      "source": [
        "f, axes = pyplot.subplots( sharey=True, figsize=(15, 8))\n",
        "sns.countplot(x=\"medicare_insurance\", color=\"c\", data=pcs, )"
      ],
      "execution_count": 0,
      "outputs": []
    },
    {
      "cell_type": "code",
      "metadata": {
        "id": "8xJCLhBf99Mf",
        "colab_type": "code",
        "colab": {}
      },
      "source": [
        "print(pcs['medicare_insurance'].value_counts(normalize = True))\n",
        "# https://en.wikipedia.org/wiki/Medicare_(United_States)\n",
        "# most medicare recepiants are older. lets check percentages to see fewest retirees"
      ],
      "execution_count": 0,
      "outputs": []
    },
    {
      "cell_type": "code",
      "metadata": {
        "id": "1OQ7WMTQL0CZ",
        "colab_type": "code",
        "colab": {}
      },
      "source": [
        "print(pcs['employment_status'].value_counts(normalize = True))"
      ],
      "execution_count": 0,
      "outputs": []
    },
    {
      "cell_type": "code",
      "metadata": {
        "id": "yzmUUTw8MvqD",
        "colab_type": "code",
        "colab": {}
      },
      "source": [
        "# ttest of one sample because same group with two percentages\n",
        "# Null Hypothesis: number of people on medicare outside of workforce is small\n",
        "# Alternate Hypothesis: number of people on medicare outside workforce is large\n"
      ],
      "execution_count": 0,
      "outputs": []
    },
    {
      "cell_type": "code",
      "metadata": {
        "id": "zygufceEwCbr",
        "colab_type": "code",
        "colab": {}
      },
      "source": [
        "pcs.columns"
      ],
      "execution_count": 0,
      "outputs": []
    },
    {
      "cell_type": "code",
      "metadata": {
        "id": "Uy5fSjHx8EdW",
        "colab_type": "code",
        "colab": {}
      },
      "source": [
        "pd.crosstab( pcs.diabetes, columns=[pcs.employment_status],  margins=True, normalize=True)"
      ],
      "execution_count": 0,
      "outputs": []
    },
    {
      "cell_type": "markdown",
      "metadata": {
        "id": "0DuZM6i7-otW",
        "colab_type": "text"
      },
      "source": [
        "### Normalizing for population shows that those outside the workforce experience diabetes at a markedly higher rate, 12% versus the 2% in those looking for work or are employed. Unfortunately there isn't any information in the dataset that would allow me to be aware of the variance in specific occurances of those leaving thee workforce. But there are two other dataset that will allow for some comparison across time"
      ]
    },
    {
      "cell_type": "code",
      "metadata": {
        "id": "EerNyH4PG8S-",
        "colab_type": "code",
        "colab": {}
      },
      "source": [
        "# I will "
      ],
      "execution_count": 0,
      "outputs": []
    },
    {
      "cell_type": "code",
      "metadata": {
        "id": "gKoVjGs3vYZ9",
        "colab_type": "code",
        "colab": {}
      },
      "source": [
        "# pd.crosstab( pcs.diabetes, columns=pcs.sex,  margins=True, normalize=True).plot.bar()"
      ],
      "execution_count": 0,
      "outputs": []
    },
    {
      "cell_type": "markdown",
      "metadata": {
        "id": "EmJQDhwz73QM",
        "colab_type": "text"
      },
      "source": [
        "# "
      ]
    },
    {
      "cell_type": "code",
      "metadata": {
        "id": "LZyLZYEv4BZs",
        "colab_type": "code",
        "colab": {}
      },
      "source": [
        ""
      ],
      "execution_count": 0,
      "outputs": []
    }
  ]
}