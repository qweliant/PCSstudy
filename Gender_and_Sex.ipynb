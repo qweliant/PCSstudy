{
  "nbformat": 4,
  "nbformat_minor": 0,
  "metadata": {
    "colab": {
      "name": "Gender and Sex",
      "provenance": [],
      "private_outputs": true,
      "collapsed_sections": [],
      "include_colab_link": true
    },
    "kernelspec": {
      "name": "python3",
      "display_name": "Python 3"
    }
  },
  "cells": [
    {
      "cell_type": "markdown",
      "metadata": {
        "id": "view-in-github",
        "colab_type": "text"
      },
      "source": [
        "<a href=\"https://colab.research.google.com/github/qweliant/GenderAndSex/blob/master/Gender_and_Sex.ipynb\" target=\"_parent\"><img src=\"https://colab.research.google.com/assets/colab-badge.svg\" alt=\"Open In Colab\"/></a>"
      ]
    },
    {
      "cell_type": "code",
      "metadata": {
        "id": "ZM8XS9rrHAds",
        "colab_type": "code",
        "colab": {}
      },
      "source": [
        "import pandas as pd\n",
        "import numpy as np\n",
        "import matplotlib.pyplot as plt\n",
        "from scipy import stats\n",
        "import seaborn as sns"
      ],
      "execution_count": 0,
      "outputs": []
    },
    {
      "cell_type": "code",
      "metadata": {
        "id": "FPwu8eqpMa9Y",
        "colab_type": "code",
        "colab": {}
      },
      "source": [
        "api_ny3 = \"https://raw.githubusercontent.com/qweliant/GenderAndSex/master/pcs2017.csv?token=AII7DUM3YSLYA57HMAZSM525SEIPA\" \n",
        "df3 = pd.read_csv(api_ny3)\n",
        "print(df3.shape)\n",
        "df3.head()"
      ],
      "execution_count": 0,
      "outputs": []
    }
  ]
}