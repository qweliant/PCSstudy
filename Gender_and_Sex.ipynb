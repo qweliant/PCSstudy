{
  "nbformat": 4,
  "nbformat_minor": 0,
  "metadata": {
    "colab": {
      "name": "Gender and Sex",
      "provenance": [],
      "private_outputs": true,
      "collapsed_sections": [],
      "include_colab_link": true
    },
    "kernelspec": {
      "name": "python3",
      "display_name": "Python 3"
    }
  },
  "cells": [
    {
      "cell_type": "markdown",
      "metadata": {
        "id": "view-in-github",
        "colab_type": "text"
      },
      "source": [
        "<a href=\"https://colab.research.google.com/github/qweliant/GenderAndSex/blob/master/Gender_and_Sex.ipynb\" target=\"_parent\"><img src=\"https://colab.research.google.com/assets/colab-badge.svg\" alt=\"Open In Colab\"/></a>"
      ]
    },
    {
      "cell_type": "code",
      "metadata": {
        "id": "ZM8XS9rrHAds",
        "colab_type": "code",
        "colab": {}
      },
      "source": [
        "import pandas as pd\n",
        "import numpy as np\n",
        "import matplotlib.pyplot as plt\n",
        "from scipy import stats\n",
        "import seaborn as sns"
      ],
      "execution_count": 0,
      "outputs": []
    },
    {
      "cell_type": "code",
      "metadata": {
        "id": "FPwu8eqpMa9Y",
        "colab_type": "code",
        "colab": {}
      },
      "source": [
        "api_ny3 = \"https://raw.githubusercontent.com/qweliant/GenderAndSex/master/pcs2017.csv?token=AII7DUM3YSLYA57HMAZSM525SEIPA\" \n",
        "gns = pd.read_csv(api_ny3)\n",
        "print(gns.shape)\n",
        "gns.head()"
      ],
      "execution_count": 0,
      "outputs": []
    },
    {
      "cell_type": "code",
      "metadata": {
        "id": "BWMFO0FnqE2e",
        "colab_type": "code",
        "colab": {}
      },
      "source": [
        "gns.Sex.unique()"
      ],
      "execution_count": 0,
      "outputs": []
    },
    {
      "cell_type": "code",
      "metadata": {
        "id": "OTVaDJxo4GSH",
        "colab_type": "code",
        "colab": {}
      },
      "source": [
        "gns.Transgender.unique()"
      ],
      "execution_count": 0,
      "outputs": []
    },
    {
      "cell_type": "code",
      "metadata": {
        "id": "NqVs4Xv84M1h",
        "colab_type": "code",
        "colab": {}
      },
      "source": [
        "gns['Sexual Orientation'].unique()"
      ],
      "execution_count": 0,
      "outputs": []
    },
    {
      "cell_type": "code",
      "metadata": {
        "id": "X--kJO3o4msE",
        "colab_type": "code",
        "colab": {}
      },
      "source": [
        "gns['Sex'] = gns.Sex.str.lower()\n",
        "gns['Transgender'] = gns.Transgender.str.lower()\n",
        "gns['Sexual Orientation'] = gns['Sexual Orientation'].str.lower()\n"
      ],
      "execution_count": 0,
      "outputs": []
    },
    {
      "cell_type": "code",
      "metadata": {
        "id": "6MwdE0mZ53Yo",
        "colab_type": "code",
        "colab": {}
      },
      "source": [
        "new_values1 = { \n",
        "    \"straight or heterosexual\" : \"heterosexual\",\n",
        "    \"lesbian or gay\" : \"homosexual\",\n",
        "    \"bisexual\" : \"bi\",\n",
        "    \"client did not answer\" : \"no answer\",\n",
        "    \"unknown\" : \"unknown\",\n",
        "    \"no, not transgender\" : \"no\",\n",
        "    \"yes, transgender\" : \"yes\"\n",
        "    }\n",
        "gns.replace(new_values1, inplace=True)\n",
        "\n"
      ],
      "execution_count": 0,
      "outputs": []
    },
    {
      "cell_type": "code",
      "metadata": {
        "id": "jN8cMf8xL6dF",
        "colab_type": "code",
        "colab": {}
      },
      "source": [
        "gns.head()"
      ],
      "execution_count": 0,
      "outputs": []
    },
    {
      "cell_type": "code",
      "metadata": {
        "id": "Hntz2eXuMiEh",
        "colab_type": "code",
        "colab": {}
      },
      "source": [
        "ct = pd.crosstab( gns['Sexual Orientation'], gns['Sex'], margins=True)"
      ],
      "execution_count": 0,
      "outputs": []
    },
    {
      "cell_type": "code",
      "metadata": {
        "id": "zHdh8U2CNBDF",
        "colab_type": "code",
        "colab": {}
      },
      "source": [
        "ct2 = pd.crosstab( gns['Sexual Orientation'], gns['Transgender'],margins=True)"
      ],
      "execution_count": 0,
      "outputs": []
    },
    {
      "cell_type": "code",
      "metadata": {
        "id": "KItX78tBc2S9",
        "colab_type": "code",
        "colab": {}
      },
      "source": [
        "ct"
      ],
      "execution_count": 0,
      "outputs": []
    },
    {
      "cell_type": "code",
      "metadata": {
        "id": "TOwoJ3D4dQVT",
        "colab_type": "code",
        "colab": {}
      },
      "source": [
        "ct2\n",
        "\n",
        "#this crosstab is cunfusing so i should split between trans or not"
      ],
      "execution_count": 0,
      "outputs": []
    },
    {
      "cell_type": "code",
      "metadata": {
        "id": "7-ST8w52gemt",
        "colab_type": "code",
        "colab": {}
      },
      "source": [
        "trans_gns = gns[gns.Transgender == 'yes']\n",
        "fem_trans_gns = trans_gns[trans_gns.Sex == 'female']\n",
        "male_trans_gns = trans_gns[trans_gns.Sex == 'male']\n",
        "\n",
        "no_trans = gns[gns.Transgender == 'no']\n",
        "fem_no_trans = no_trans[no_trans.Sex == 'female']\n",
        "male_no_trans = no_trans[no_trans.Sex == 'male']\n"
      ],
      "execution_count": 0,
      "outputs": []
    },
    {
      "cell_type": "code",
      "metadata": {
        "id": "5C0gzfARuDVw",
        "colab_type": "code",
        "colab": {}
      },
      "source": [
        "trans_gns_ct = pd.crosstab( trans_gns['Sexual Orientation'], trans_gns['Sex'], margins=True)\n",
        "fem_trans_gns_ct = pd.crosstab(fem_trans_gns['Sexual Orientation'], fem_trans_gns['Sex'], margins=True)\n",
        "male_trans_gns_ct = pd.crosstab(male_trans_gns['Sexual Orientation'], male_trans_gns['Sex'], margins=True)\n",
        "\n",
        "no_trans_gns_ct = pd.crosstab(no_trans['Sexual Orientation'], no_trans['Sex'], margins=True)\n",
        "fem_no_trans_gns_ct = pd.crosstab(fem_no_trans['Sexual Orientation'], fem_no_trans['Sex'], margins=True)\n",
        "male_no_trans_gns_ct = pd.crosstab(male_no_trans['Sexual Orientation'], male_no_trans['Sex'], margins=True)\n"
      ],
      "execution_count": 0,
      "outputs": []
    },
    {
      "cell_type": "code",
      "metadata": {
        "id": "Jg3v9Nk-8cCj",
        "colab_type": "code",
        "colab": {}
      },
      "source": [
        "fem_trans_gns_ct"
      ],
      "execution_count": 0,
      "outputs": []
    },
    {
      "cell_type": "code",
      "metadata": {
        "id": "kA0sxdRJ8hu2",
        "colab_type": "code",
        "colab": {}
      },
      "source": [
        "trans_gns_ct"
      ],
      "execution_count": 0,
      "outputs": []
    },
    {
      "cell_type": "code",
      "metadata": {
        "id": "GGXxj5rh9LpY",
        "colab_type": "code",
        "colab": {}
      },
      "source": [
        "fem_no_trans_gns_ct"
      ],
      "execution_count": 0,
      "outputs": []
    },
    {
      "cell_type": "code",
      "metadata": {
        "id": "4X0dMy6m9NWl",
        "colab_type": "code",
        "colab": {}
      },
      "source": [
        "male_no_trans_gns_ct"
      ],
      "execution_count": 0,
      "outputs": []
    },
    {
      "cell_type": "code",
      "metadata": {
        "id": "SrbTai9i96Al",
        "colab_type": "code",
        "colab": {}
      },
      "source": [
        "from numpy import var"
      ],
      "execution_count": 0,
      "outputs": []
    },
    {
      "cell_type": "markdown",
      "metadata": {
        "id": "S2P-mPlFbGdt",
        "colab_type": "text"
      },
      "source": [
        "# This section represents the variance of sexual oreintaions amongst differnet sexes"
      ]
    },
    {
      "cell_type": "code",
      "metadata": {
        "id": "JfBoL4N3W2y7",
        "colab_type": "code",
        "colab": {}
      },
      "source": [
        "sum_fem_trans = fem_trans_gns_ct.iloc[ 0:6, 0].values\n",
        "print(sum_fem_trans)\n",
        "np.var(sum_fem_trans)"
      ],
      "execution_count": 0,
      "outputs": []
    },
    {
      "cell_type": "code",
      "metadata": {
        "id": "JeDhtMa3AWoY",
        "colab_type": "code",
        "colab": {}
      },
      "source": [
        "sum_male_trans = male_trans_gns_ct.iloc[ 0:6, 0].values\n",
        "print(sum_male_trans)\n",
        "np.var(sum_male_trans)"
      ],
      "execution_count": 0,
      "outputs": []
    },
    {
      "cell_type": "code",
      "metadata": {
        "id": "bwnJ-jELW26V",
        "colab_type": "code",
        "colab": {}
      },
      "source": [
        "sum_fem_no_trans = fem_no_trans_gns_ct.iloc[ 0:6, 0].values\n",
        "print(sum_fem_no_trans)\n",
        "vari_1 = np.var(sum_fem_no_trans)\n",
        "print(\"Variance\", vari_1)\n",
        "stddiv_1 = np.std(sum_fem_no_trans)\n",
        "print(\"Std div\",stddiv_1)"
      ],
      "execution_count": 0,
      "outputs": []
    },
    {
      "cell_type": "code",
      "metadata": {
        "id": "KLz8-BsFW3BD",
        "colab_type": "code",
        "colab": {}
      },
      "source": [
        "sum_male_no_trans = male_no_trans_gns_ct.iloc[ 0:6, 0].values\n",
        "print(sum_male_no_trans)\n",
        "vari_2 = np.var(sum_male_no_trans)\n",
        "print(\"Variance\", vari_2)\n",
        "stddiv_2 = np.std(sum_male_no_trans)\n",
        "print(\"Std div\",stddiv_2)"
      ],
      "execution_count": 0,
      "outputs": []
    },
    {
      "cell_type": "code",
      "metadata": {
        "id": "4pLwT0RQW3K1",
        "colab_type": "code",
        "colab": {}
      },
      "source": [
        "sum_no_trans = no_trans_gns_ct.iloc[ 0:6, 3].values\n",
        "print(sum_no_trans)\n",
        "vari_3 = np.var(sum_no_trans)\n",
        "print(\"Variance\", vari_3)\n",
        "stddiv_3 = np.std(sum_no_trans)\n",
        "print(\"Std div\",stddiv_3)"
      ],
      "execution_count": 0,
      "outputs": []
    },
    {
      "cell_type": "code",
      "metadata": {
        "id": "BjlajWujDh9K",
        "colab_type": "code",
        "colab": {}
      },
      "source": [
        "sum_trans = trans_gns_ct.iloc[ 0:6, 3].values\n",
        "print(sum_trans)\n",
        "vari_4 = np.var(sum_trans)\n",
        "print(\"Variance\", vari_4)\n",
        "stddiv_4 = np.std(sum_trans)\n",
        "print(\"Std div\",stddiv_4)"
      ],
      "execution_count": 0,
      "outputs": []
    },
    {
      "cell_type": "code",
      "metadata": {
        "id": "CyKXc7SSwz0W",
        "colab_type": "code",
        "colab": {}
      },
      "source": [
        ""
      ],
      "execution_count": 0,
      "outputs": []
    },
    {
      "cell_type": "code",
      "metadata": {
        "id": "Nst0u9z6-zx-",
        "colab_type": "code",
        "colab": {}
      },
      "source": [
        ""
      ],
      "execution_count": 0,
      "outputs": []
    }
  ]
}