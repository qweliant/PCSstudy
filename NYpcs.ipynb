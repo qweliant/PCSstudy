{
  "nbformat": 4,
  "nbformat_minor": 0,
  "metadata": {
    "colab": {
      "name": "Gender and Sex",
      "provenance": [],
      "private_outputs": true,
      "collapsed_sections": [],
      "include_colab_link": true
    },
    "kernelspec": {
      "display_name": "Python 3",
      "language": "python",
      "name": "python3"
    },
    "language_info": {
      "codemirror_mode": {
        "name": "ipython",
        "version": 3
      },
      "file_extension": ".py",
      "mimetype": "text/x-python",
      "name": "python",
      "nbconvert_exporter": "python",
      "pygments_lexer": "ipython3",
      "version": "3.8.1"
    }
  },
  "cells": [
    {
      "cell_type": "markdown",
      "metadata": {
        "id": "view-in-github",
        "colab_type": "text"
      },
      "source": [
        "<a href=\"https://colab.research.google.com/github/qweliant/GenderAndSex/blob/master/NYpcs.ipynb\" target=\"_parent\"><img src=\"https://colab.research.google.com/assets/colab-badge.svg\" alt=\"Open In Colab\"/></a>"
      ]
    },
    {
      "cell_type": "code",
      "metadata": {
        "colab_type": "code",
        "id": "ZM8XS9rrHAds",
        "colab": {}
      },
      "source": [
        "import pandas as pd\n",
        "import numpy as np\n",
        "import matplotlib.pyplot as plt\n",
        "from scipy import stats\n",
        "import seaborn as sns\n",
        "import plotly.graph_objects as go \n",
        "import plotly.express as px"
      ],
      "execution_count": 0,
      "outputs": []
    },
    {
      "cell_type": "code",
      "metadata": {
        "colab_type": "code",
        "id": "FPwu8eqpMa9Y",
        "colab": {}
      },
      "source": [
        "url = \"https://raw.githubusercontent.com/qweliant/GenderAndSex/master/pcs2017.csv?token=AII7DUPIC5EVAMELYX4PIZK6MRTNW\" \n",
        "pcs = pd.read_csv(url)\n"
      ],
      "execution_count": 0,
      "outputs": []
    },
    {
      "cell_type": "code",
      "metadata": {
        "id": "j5_TPLEmTGG2",
        "colab_type": "code",
        "colab": {}
      },
      "source": [
        "def format(data_frame):\n",
        "    vals = {\n",
        "        'NOT IN LABOR FORCE:UNEMPLOYED AND NOT LOOKING FOR WORK' : 'out',\n",
        "        'UNEMPLOYED, LOOKING FOR WORK' : 'looking', \n",
        "        'EMPLOYED' : 'employed',\n",
        "        'UNKNOWN EMPLOYMENT STATUS' : 'unknown', \n",
        "        'NON-PAID/VOLUNTEER' : 'pro-bono'\n",
        "    }\n",
        "    data_frame.replace(vals, inplace=True)\n",
        "    data_frame.columns = data_frame.columns.str.replace(' ', '_')\n",
        "    data_frame.columns = map(str.lower, data_frame.columns)\n"
      ],
      "execution_count": 0,
      "outputs": []
    },
    {
      "cell_type": "code",
      "metadata": {
        "id": "xsvVWifB3HP-",
        "colab_type": "code",
        "colab": {}
      },
      "source": [
        "pcs.head()"
      ],
      "execution_count": 0,
      "outputs": []
    },
    {
      "cell_type": "code",
      "metadata": {
        "id": "N0kTf7X9Qshz",
        "colab_type": "code",
        "colab": {}
      },
      "source": [
        "pcs.shape"
      ],
      "execution_count": 0,
      "outputs": []
    },
    {
      "cell_type": "markdown",
      "metadata": {
        "id": "Ty1a6xvh3o8i",
        "colab_type": "text"
      },
      "source": [
        "I want to check out employment_status and living_situation because it would bias assumptions about the data with a tilt too far one way or another\n"
      ]
    },
    {
      "cell_type": "code",
      "metadata": {
        "id": "I5aKQ6lZ4AoT",
        "colab_type": "code",
        "colab": {}
      },
      "source": [
        "pcs[pcs.isnull().any(axis=1)]"
      ],
      "execution_count": 0,
      "outputs": []
    },
    {
      "cell_type": "code",
      "metadata": {
        "id": "MbEgSvnS5LB7",
        "colab_type": "code",
        "colab": {}
      },
      "source": [
        "# no nulls so yay\n",
        "format(pcs)"
      ],
      "execution_count": 0,
      "outputs": []
    },
    {
      "cell_type": "code",
      "metadata": {
        "id": "Jlhyiqad5iWK",
        "colab_type": "code",
        "colab": {}
      },
      "source": [
        "# I can probs drob the survey date, lets make sure\n",
        "pcs['survey_year'].unique()"
      ],
      "execution_count": 0,
      "outputs": []
    },
    {
      "cell_type": "code",
      "metadata": {
        "id": "Pcm3ceR-5y7c",
        "colab_type": "code",
        "colab": {}
      },
      "source": [
        "pcs.drop(columns=['survey_year'], inplace=True)"
      ],
      "execution_count": 0,
      "outputs": []
    },
    {
      "cell_type": "code",
      "metadata": {
        "id": "Oe5lvU_s8yoT",
        "colab_type": "code",
        "colab": {}
      },
      "source": [
        "pcs['employment_status'].unique()"
      ],
      "execution_count": 0,
      "outputs": []
    },
    {
      "cell_type": "code",
      "metadata": {
        "id": "FGaP7QljA71U",
        "colab_type": "code",
        "colab": {}
      },
      "source": [
        "vals = {\n",
        "    'NOT IN LABOR FORCE:UNEMPLOYED AND NOT LOOKING FOR WORK' : 'out',\n",
        "    'UNEMPLOYED, LOOKING FOR WORK' : 'looking', \n",
        "    'EMPLOYED' : 'employed',\n",
        "    'UNKNOWN EMPLOYMENT STATUS' : 'unknown', \n",
        "    'NON-PAID/VOLUNTEER' : 'pro-bono'\n",
        "}\n",
        "\n",
        "pcs['employment_status'].replace(vals, inplace=True)"
      ],
      "execution_count": 0,
      "outputs": []
    },
    {
      "cell_type": "code",
      "metadata": {
        "id": "g6XWjbsA9T81",
        "colab_type": "code",
        "colab": {}
      },
      "source": [
        "import seaborn as sns\n",
        "from matplotlib import pyplot\n",
        "# pcs['employment_status'].value_counts().plot(kind='bar')\n",
        "f, axes = pyplot.subplots( sharey=True, figsize=(11, 4))\n",
        "sns.countplot(x=\"employment_status\", palette=\"ch:.25\", data=pcs, )\n"
      ],
      "execution_count": 0,
      "outputs": []
    },
    {
      "cell_type": "markdown",
      "metadata": {
        "id": "C-pbfvDsGUY_",
        "colab_type": "text"
      },
      "source": [
        "the overwhelming majority of people are not in the workforce. lets see if age group has anything to do with it"
      ]
    },
    {
      "cell_type": "code",
      "metadata": {
        "id": "9NlfGW3L_ZKS",
        "colab_type": "code",
        "colab": {}
      },
      "source": [
        "f, axes = plt.subplots( sharey=True, figsize=(15, 8))\n",
        "sns.countplot(x=\"age_group\", palette=\"ch:.25\", data=pcs, )"
      ],
      "execution_count": 0,
      "outputs": []
    },
    {
      "cell_type": "markdown",
      "metadata": {
        "id": "ODiNQv2bGxB2",
        "colab_type": "text"
      },
      "source": [
        "This does not really inform me of anything. Which means I cannot tell if these are majority older people, Lets try looking at `medicare_insurance`\n"
      ]
    },
    {
      "cell_type": "code",
      "metadata": {
        "id": "dx6mnktQHRlq",
        "colab_type": "code",
        "colab": {}
      },
      "source": [
        "f, axes = plt.subplots( sharey=True, figsize=(15, 8))\n",
        "sns.countplot(x=\"medicare_insurance\", color=\"c\", data=pcs, )"
      ],
      "execution_count": 0,
      "outputs": []
    },
    {
      "cell_type": "code",
      "metadata": {
        "id": "8xJCLhBf99Mf",
        "colab_type": "code",
        "colab": {}
      },
      "source": [
        "print(pcs['medicare_insurance'].value_counts(normalize = True))\n",
        "# https://en.wikipedia.org/wiki/Medicare_(United_States)\n",
        "# most medicare recepiants are older. lets check percentages to see fewest retirees"
      ],
      "execution_count": 0,
      "outputs": []
    },
    {
      "cell_type": "code",
      "metadata": {
        "id": "1OQ7WMTQL0CZ",
        "colab_type": "code",
        "colab": {}
      },
      "source": [
        "print(pcs['employment_status'].value_counts(normalize = True))"
      ],
      "execution_count": 0,
      "outputs": []
    },
    {
      "cell_type": "code",
      "metadata": {
        "id": "yzmUUTw8MvqD",
        "colab_type": "code",
        "colab": {}
      },
      "source": [
        "# ttest of one sample because same group with two percentages\n",
        "# Null Hypothesis: number of people on medicare outside of workforce is small\n",
        "# Alternate Hypothesis: number of people on medicare outside workforce is large\n"
      ],
      "execution_count": 0,
      "outputs": []
    },
    {
      "cell_type": "code",
      "metadata": {
        "id": "zygufceEwCbr",
        "colab_type": "code",
        "colab": {}
      },
      "source": [
        "pcs.columns"
      ],
      "execution_count": 0,
      "outputs": []
    },
    {
      "cell_type": "code",
      "metadata": {
        "id": "Uy5fSjHx8EdW",
        "colab_type": "code",
        "colab": {}
      },
      "source": [
        "pd.crosstab( pcs.diabetes, columns=[pcs.employment_status],  margins=True, normalize=True)"
      ],
      "execution_count": 0,
      "outputs": []
    },
    {
      "cell_type": "markdown",
      "metadata": {
        "id": "0DuZM6i7-otW",
        "colab_type": "text"
      },
      "source": [
        "### Normalizing for population shows that those outside the workforce experience diabetes at a markedly higher rate, 12% versus the 2% in those looking for work or are employed. Unfortunately there isn't any information in the dataset that would allow me to be aware of the variance in specific occurances of those leaving thee workforce. But there are two other dataset that will allow for some comparison across time"
      ]
    },
    {
      "cell_type": "code",
      "metadata": {
        "id": "EerNyH4PG8S-",
        "colab_type": "code",
        "colab": {}
      },
      "source": [
        "# I will start by setting creating a new 2017, 2015, and 2013 dataset\n",
        "url2017 = \"https://raw.githubusercontent.com/qweliant/GenderAndSex/master/pcs2017.csv?token=AII7DUPIC5EVAMELYX4PIZK6MRTNW\" \n",
        "url2015 = \"https://raw.githubusercontent.com/qweliant/GenderAndSex/master/pcs2015.csv?token=AII7DUICYVI4PRR3WQC5PAC6MRTFC\"\n",
        "url2013 = \"https://raw.githubusercontent.com/qweliant/GenderAndSex/master/pcs2013.csv?token=AII7DULFZ4LD3FIMZJD5SKK6MRTLK\""
      ],
      "execution_count": 0,
      "outputs": []
    },
    {
      "cell_type": "code",
      "metadata": {
        "id": "gKoVjGs3vYZ9",
        "colab_type": "code",
        "colab": {}
      },
      "source": [
        "pcs2017 = pd.read_csv(url2017)\n",
        "pcs2015 = pd.read_csv(url2015)\n",
        "pcs2013 = pd.read_csv(url2013)"
      ],
      "execution_count": 0,
      "outputs": []
    },
    {
      "cell_type": "code",
      "metadata": {
        "id": "QXSAWNUyQwyh",
        "colab_type": "code",
        "colab": {}
      },
      "source": [
        "print(pcs2017.shape)\n",
        "print(pcs2015.shape)\n",
        "print(pcs2013.shape)"
      ],
      "execution_count": 0,
      "outputs": []
    },
    {
      "cell_type": "code",
      "metadata": {
        "id": "iuCS0EZjUFmh",
        "colab_type": "code",
        "colab": {}
      },
      "source": [
        "format(pcs2017)\n",
        "format(pcs2015)\n",
        "format(pcs2013)"
      ],
      "execution_count": 0,
      "outputs": []
    },
    {
      "cell_type": "code",
      "metadata": {
        "id": "OiuzHUZQiTWl",
        "colab_type": "code",
        "colab": {}
      },
      "source": [
        "pcs2013.head()"
      ],
      "execution_count": 0,
      "outputs": []
    },
    {
      "cell_type": "code",
      "metadata": {
        "id": "vnq3IV5de3CC",
        "colab_type": "code",
        "colab": {}
      },
      "source": [
        "sns.heatmap(\n",
        "    pd.crosstab(\n",
        "        [pcs2017.mental_illness], \n",
        "        [pcs2017.employment_status], \n",
        "        normalize=True),\n",
        "    cmap=\"YlGnBu\", annot=True, cbar=False)"
      ],
      "execution_count": 0,
      "outputs": []
    },
    {
      "cell_type": "code",
      "metadata": {
        "id": "dILNpgZxz4a1",
        "colab_type": "code",
        "colab": {}
      },
      "source": [
        "pcs2017['mental_illness'].value_counts(normalize=True)"
      ],
      "execution_count": 0,
      "outputs": []
    },
    {
      "cell_type": "code",
      "metadata": {
        "id": "UdQtRz7hHjnB",
        "colab_type": "code",
        "colab": {}
      },
      "source": [
        "pcs2015['mental_illness'].value_counts(normalize=True)\n"
      ],
      "execution_count": 0,
      "outputs": []
    },
    {
      "cell_type": "code",
      "metadata": {
        "id": "P9ftlAzrH0D_",
        "colab_type": "code",
        "colab": {}
      },
      "source": [
        "pcs2013['mental_illness'].value_counts(normalize=True)\n"
      ],
      "execution_count": 0,
      "outputs": []
    },
    {
      "cell_type": "markdown",
      "metadata": {
        "id": "XO5cGMZzqL2S",
        "colab_type": "text"
      },
      "source": [
        "Mental illness in out of work respondants accounts for a signaficant portion of those out of work. But does this make sense? It would seem the reason behind the large amount of people in this dataset absent from the workforce would be the overwhelming amount of participants with a mental illness, but that is supposition. What can we do now if the majority of the population exist outside of the workforce. \n"
      ]
    },
    {
      "cell_type": "markdown",
      "metadata": {
        "id": "M0DGf65C0zBa",
        "colab_type": "text"
      },
      "source": [
        ""
      ]
    },
    {
      "cell_type": "code",
      "metadata": {
        "id": "HwaUNpNJupcJ",
        "colab_type": "code",
        "colab": {}
      },
      "source": [
        "# sns.heatmap(pd.crosstab([pcs2017.employment_status], [pcs2017.living_situation], normalize=True),\n",
        "#             cmap=\"YlGnBu\", annot=True, cbar=False)"
      ],
      "execution_count": 0,
      "outputs": []
    },
    {
      "cell_type": "code",
      "metadata": {
        "id": "wi469ue_tcgE",
        "colab_type": "code",
        "colab": {}
      },
      "source": [
        "sns.heatmap(pd.crosstab([pcs2017.race, pcs2017.hispanic_ethnicity], [pcs2017.mental_illness], normalize=True),\n",
        "            cmap=\"YlGnBu\", annot=True, cbar=False)"
      ],
      "execution_count": 0,
      "outputs": []
    },
    {
      "cell_type": "code",
      "metadata": {
        "id": "db2rEkjfDtvQ",
        "colab_type": "code",
        "colab": {}
      },
      "source": [
        "sns.heatmap(pd.crosstab([pcs2017.race, pcs2017.hispanic_ethnicity], [pcs2017.hearing_visual_impairment], normalize=True),\n",
        "            cmap=\"YlGnBu\", annot=True, cbar=False)"
      ],
      "execution_count": 0,
      "outputs": []
    },
    {
      "cell_type": "code",
      "metadata": {
        "id": "qgV4AX0BJDXO",
        "colab_type": "code",
        "colab": {}
      },
      "source": [
        "sns.heatmap(pd.crosstab([pcs2017.sex], [pcs2017.hearing_visual_impairment], normalize=True),\n",
        "            cmap=\"YlGnBu\", annot=True, cbar=False)\n",
        "# sex differences do not seem to play a role "
      ],
      "execution_count": 0,
      "outputs": []
    },
    {
      "cell_type": "code",
      "metadata": {
        "id": "lPA4MCKLnhGX",
        "colab_type": "code",
        "colab": {}
      },
      "source": [
        "# since a longitudinal approach would not be valid given the one week period of data collection and anonymized results,\n",
        "# I will merge the sets and begin looking at various demographics for to understand which grouo is at risk for what\n",
        "assert len(pcs2017.columns) == len(pcs2015.columns)\n",
        "assert len(pcs2017.columns) == len(pcs2013.columns)"
      ],
      "execution_count": 0,
      "outputs": []
    },
    {
      "cell_type": "code",
      "metadata": {
        "id": "HGOKkfPrNDfO",
        "colab_type": "code",
        "colab": {}
      },
      "source": [
        "pcs = pcs2017.append(pcs2015, sort=False, ignore_index=True)"
      ],
      "execution_count": 0,
      "outputs": []
    },
    {
      "cell_type": "code",
      "metadata": {
        "id": "ieGRyKi_RJBZ",
        "colab_type": "code",
        "colab": {}
      },
      "source": [
        "pcs = pcs.append(pcs2013, sort=False, ignore_index=True)"
      ],
      "execution_count": 0,
      "outputs": []
    },
    {
      "cell_type": "code",
      "metadata": {
        "id": "tFgrYORC3A35",
        "colab_type": "code",
        "colab": {}
      },
      "source": [
        "pcs2015.head()"
      ],
      "execution_count": 0,
      "outputs": []
    },
    {
      "cell_type": "code",
      "metadata": {
        "id": "eEqLZ8hl21kN",
        "colab_type": "code",
        "colab": {}
      },
      "source": [
        "pcs2013.head()"
      ],
      "execution_count": 0,
      "outputs": []
    },
    {
      "cell_type": "code",
      "metadata": {
        "id": "W_j9GgW9Uwb-",
        "colab_type": "code",
        "colab": {}
      },
      "source": [
        "format(pcs)\n",
        "pcs.columns"
      ],
      "execution_count": 0,
      "outputs": []
    },
    {
      "cell_type": "code",
      "metadata": {
        "id": "6QYR0opnSy-D",
        "colab_type": "code",
        "colab": {}
      },
      "source": [
        "# this line from above, lets see what we get now\n",
        "sns.heatmap(pd.crosstab([pcs.sex], [pcs.diabetes], normalize=True),\n",
        "            cmap=\"YlGnBu\", annot=True, cbar=False)\n",
        "# sex differences do not seem to play a role \n"
      ],
      "execution_count": 0,
      "outputs": []
    },
    {
      "cell_type": "code",
      "metadata": {
        "id": "6vY1f97OV_ap",
        "colab_type": "code",
        "colab": {}
      },
      "source": [
        "sns.heatmap(pd.crosstab([pcs.sex], [pcs.pulmonary_asthma], normalize=True),\n",
        "            cmap=\"YlGnBu\", annot=True, cbar=False)"
      ],
      "execution_count": 0,
      "outputs": []
    },
    {
      "cell_type": "code",
      "metadata": {
        "id": "5wZo5hXwWZZT",
        "colab_type": "code",
        "colab": {}
      },
      "source": [
        "f, axes = pyplot.subplots( sharey=True, figsize=(11, 4))\n",
        "sns.heatmap(\n",
        "    pd.crosstab([pcs.sex], [pcs.principal_diagnosis_class], \n",
        "    normalize=True),\n",
        "    cmap=\"YlGnBu\", \n",
        "    annot=True, \n",
        "    cbar=False)"
      ],
      "execution_count": 0,
      "outputs": []
    }
  ]
}