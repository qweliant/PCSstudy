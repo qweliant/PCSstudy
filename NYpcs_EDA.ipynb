{
 "cells": [
  {
   "cell_type": "code",
   "execution_count": null,
   "metadata": {},
   "outputs": [],
   "source": [
    "import numpy as np\n",
    "import matplotlib.pyplot as plt\n",
    "from scipy import stats\n",
    "import seaborn as sns\n",
    "import pandas as pd\n",
    "from xgboost import XGBRegressor\n",
    "import category_encoders as ce\n",
    "from sklearn.pipeline import make_pipeline\n",
    "from sklearn.preprocessing import StandardScaler\n",
    "from pdpbox.pdp import pdp_interact, pdp_interact_plot, pdp_isolate, pdp_plot\n",
    "from sklearn.model_selection import train_test_split, StratifiedKFold, GridSearchCV, cross_validate\n",
    "from sklearn.impute import SimpleImputer\n",
    "import sklearn.metrics as metrics\n",
    "from xgboost import XGBClassifier, plot_importance\n",
    "import uuid \n"
   ]
  },
  {
   "cell_type": "code",
   "execution_count": null,
   "metadata": {},
   "outputs": [],
   "source": []
  },
  {
   "cell_type": "code",
   "execution_count": null,
   "metadata": {},
   "outputs": [],
   "source": [
    "a = uuid.uuid1()"
   ]
  },
  {
   "cell_type": "code",
   "execution_count": null,
   "metadata": {},
   "outputs": [],
   "source": [
    "pd.set_option('display.max_rows', 500)\n",
    "pd.set_option('display.max_columns', 500)\n",
    "pd.set_option('display.width', 1000)"
   ]
  },
  {
   "cell_type": "code",
   "execution_count": null,
   "metadata": {},
   "outputs": [],
   "source": [
    "pcs = pd.read_csv('data/pcs.csv')"
   ]
  },
  {
   "cell_type": "code",
   "execution_count": null,
   "metadata": {},
   "outputs": [],
   "source": [
    "pcs.head()"
   ]
  },
  {
   "cell_type": "code",
   "execution_count": null,
   "metadata": {},
   "outputs": [],
   "source": [
    "pcs.drop(\"survey_year\", axis=1, inplace=True)"
   ]
  },
  {
   "cell_type": "code",
   "execution_count": null,
   "metadata": {},
   "outputs": [],
   "source": [
    "pcs.shape"
   ]
  },
  {
   "cell_type": "markdown",
   "metadata": {},
   "source": [
    "Lets check out how many people on this sruvey has mental illness"
   ]
  },
  {
   "cell_type": "code",
   "execution_count": null,
   "metadata": {},
   "outputs": [],
   "source": [
    "pcs['mental_illness'].value_counts(normalize=True)"
   ]
  },
  {
   "cell_type": "code",
   "execution_count": null,
   "metadata": {},
   "outputs": [],
   "source": [
    "pcs['mental_illness'].hist()"
   ]
  },
  {
   "cell_type": "code",
   "execution_count": null,
   "metadata": {},
   "outputs": [],
   "source": [
    "sns.countplot(x=\"living_situation\", palette=\"ch:.25\", data=pcs, )"
   ]
  },
  {
   "cell_type": "markdown",
   "metadata": {},
   "source": [
    "The overwheming majority huh......"
   ]
  },
  {
   "cell_type": "code",
   "execution_count": null,
   "metadata": {},
   "outputs": [],
   "source": [
    "pcs['age_group'].value_counts(normalize=True)"
   ]
  },
  {
   "cell_type": "markdown",
   "metadata": {},
   "source": [
    "Children account for approximately 18 percent of mental illness patients"
   ]
  },
  {
   "cell_type": "code",
   "execution_count": null,
   "metadata": {},
   "outputs": [],
   "source": [
    "pcs['sex'].value_counts(normalize=True)"
   ]
  },
  {
   "cell_type": "code",
   "execution_count": null,
   "metadata": {},
   "outputs": [],
   "source": [
    "pcs['race'].value_counts(normalize=True)"
   ]
  },
  {
   "cell_type": "code",
   "execution_count": null,
   "metadata": {},
   "outputs": [],
   "source": [
    "pcs['hispanic_ethnicity'].value_counts(normalize=True)"
   ]
  },
  {
   "cell_type": "code",
   "execution_count": null,
   "metadata": {},
   "outputs": [],
   "source": [
    "pcs['serious_mental_illness'].value_counts(normalize=True)"
   ]
  },
  {
   "cell_type": "markdown",
   "metadata": {},
   "source": [
    "Strangely enough, 84.3 percent of respondants have a serious mental illness, along with 94.9 percent who havve a mental illness. * note this is a data leakage issue in future modeling "
   ]
  },
  {
   "cell_type": "code",
   "execution_count": null,
   "metadata": {},
   "outputs": [],
   "source": [
    "f, axes = plt.subplots( sharey=True, figsize=(11, 4))\n",
    "sns.countplot(x=\"living_situation\", palette=\"ch:.25\", data=pcs, )"
   ]
  },
  {
   "cell_type": "code",
   "execution_count": null,
   "metadata": {},
   "outputs": [],
   "source": [
    "pcs['living_situation'].value_counts(normalize=True)"
   ]
  },
  {
   "cell_type": "markdown",
   "metadata": {},
   "source": [
    "Most live in a private residence, but the second largest feature is other. With little info on that, I become curious as to the true state of 20% of the respondants"
   ]
  },
  {
   "cell_type": "code",
   "execution_count": null,
   "metadata": {},
   "outputs": [],
   "source": [
    "f, axes = plt.subplots( sharey=True, figsize=(11, 4))\n",
    "sns.countplot(y=\"household_composition\", palette=\"ch:1.3,-.2,dark=.3\", data=pcs, )\n",
    "plt.xlabel(\"Count\")\n",
    "plt.ylabel(\"Living Status\")"
   ]
  },
  {
   "cell_type": "code",
   "execution_count": null,
   "metadata": {},
   "outputs": [],
   "source": [
    "f, axes = plt.subplots( sharey=True, figsize=(11, 4))\n",
    "plt.xticks(rotation='vertical')\n",
    "sns.countplot(y=\"employment_status\", palette=\"ch:2.5,-.2,dark=.3\", data=pcs)\n",
    "plt.xlabel(\"Count\")\n",
    "plt.ylabel(\"Employment Status\")"
   ]
  },
  {
   "cell_type": "code",
   "execution_count": null,
   "metadata": {},
   "outputs": [],
   "source": [
    "pcs['three_digit_residence_zip_code'].value_counts(normalize=True)"
   ]
  },
  {
   "cell_type": "code",
   "execution_count": null,
   "metadata": {},
   "outputs": [],
   "source": [
    " l = pcs['three_digit_residence_zip_code'].value_counts(normalize=True)"
   ]
  },
  {
   "cell_type": "code",
   "execution_count": null,
   "metadata": {},
   "outputs": [],
   "source": [
    "l.head(2).sum()"
   ]
  },
  {
   "cell_type": "markdown",
   "metadata": {},
   "source": [
    "Almost 25% of the group are accounted for with two zipcodes. With a wikipedia search, we see that comprises Brooklyn and The Bronx."
   ]
  },
  {
   "cell_type": "code",
   "execution_count": null,
   "metadata": {},
   "outputs": [],
   "source": [
    "#importing plotly and cufflinks in offline mode\n",
    "import cufflinks as cf\n",
    "import plotly.offline\n",
    "cf.go_offline()\n",
    "cf.set_config_file(offline=False, world_readable=True)"
   ]
  },
  {
   "cell_type": "code",
   "execution_count": null,
   "metadata": {},
   "outputs": [],
   "source": [
    "pcs.serious_mental_illness.value_counts().sort_values(ascending=False).iplot(kind='bar', yTitle='Number of Complaints', \n",
    "title='Number complaints in each product')"
   ]
  },
  {
   "cell_type": "code",
   "execution_count": null,
   "metadata": {},
   "outputs": [],
   "source": [
    "pcs['id'] = [ uuid.uuid1()  for k in pcs.index]"
   ]
  },
  {
   "cell_type": "code",
   "execution_count": null,
   "metadata": {},
   "outputs": [],
   "source": [
    "target = 'serious_mental_illness'\n",
    "X = pd.DataFrame(pcs.drop(columns=[target,'mental_illness']))\n",
    "y = pd.DataFrame(pcs[target])"
   ]
  },
  {
   "cell_type": "code",
   "execution_count": null,
   "metadata": {},
   "outputs": [],
   "source": [
    "X.shape"
   ]
  },
  {
   "cell_type": "code",
   "execution_count": null,
   "metadata": {},
   "outputs": [],
   "source": [
    "X_trainval, X_test, y_trainval, y_test = train_test_split(\n",
    "    X, \n",
    "    y, \n",
    "    test_size=0.001,\n",
    "    train_size=0.10, \n",
    "    stratify=y, \n",
    "    random_state=42\n",
    ")\n",
    "\n",
    "X_train, X_val, y_train, y_val = train_test_split(\n",
    "    X_trainval, \n",
    "    y_trainval, \n",
    "    test_size=0.05,\n",
    "    train_size=0.10, \n",
    "    stratify=y_trainval, \n",
    "    random_state=42\n",
    ")\n",
    "\n",
    "print('X_train shape', X_train.shape)\n",
    "print('y_train shape', y_train.shape)\n",
    "print('X_val shape', X_val.shape)\n",
    "print('y_val shape', y_val.shape)\n",
    "print('X_test shape', X_test.shape)\n",
    "print('y_test shape', y_test.shape)"
   ]
  },
  {
   "cell_type": "code",
   "execution_count": null,
   "metadata": {},
   "outputs": [],
   "source": [
    "train_id = X_train['id']\n",
    "val_id = X_val['id']\n",
    "test_id = X_test['id']"
   ]
  },
  {
   "cell_type": "code",
   "execution_count": 53,
   "metadata": {},
   "outputs": [],
   "source": [
    "x_processor = make_pipeline(\n",
    "    ce.OrdinalEncoder(), \n",
    "    SimpleImputer(strategy='median')\n",
    ")\n",
    "\n",
    "y_processor = make_pipeline(\n",
    "    ce.OrdinalEncoder(), \n",
    "    SimpleImputer(strategy='median')\n",
    ")"
   ]
  },
  {
   "cell_type": "code",
   "execution_count": null,
   "metadata": {},
   "outputs": [],
   "source": [
    "cols = X.columns\n",
    "len(cols)"
   ]
  },
  {
   "cell_type": "code",
   "execution_count": 54,
   "metadata": {},
   "outputs": [],
   "source": [
    "def prepare_inputs(X_train, X_val, X_test):\n",
    "\tX_train_enc = pd.DataFrame(x_processor.fit_transform(X_train), columns=cols)\n",
    "\tX_val_enc = pd.DataFrame(x_processor.transform(X_val), columns=cols)\n",
    "\tX_test_enc = pd.DataFrame(x_processor.transform(X_test), columns=cols)\n",
    "\treturn X_train_enc, X_val_enc, X_test_enc\n",
    "\n",
    "def prepare_targets(y_train, y_val, y_test):\n",
    "    y_train_enc = pd.DataFrame(y_processor.fit_transform(y_train), columns=['serious_mental_illness'])\n",
    "    y_val_enc = pd.DataFrame(y_processor.transform(y_val), columns=['serious_mental_illness'])\n",
    "    y_test_enc = pd.DataFrame(y_processor.transform(y_test), columns=['serious_mental_illness'])\n",
    "    return y_train_enc, y_val_enc, y_test_enc"
   ]
  },
  {
   "cell_type": "code",
   "execution_count": null,
   "metadata": {},
   "outputs": [],
   "source": [
    "X_train_processed, X_val_processed, X_test = prepare_inputs(X_train, X_val, X_test)"
   ]
  },
  {
   "cell_type": "code",
   "execution_count": 52,
   "metadata": {},
   "outputs": [
    {
     "output_type": "execute_result",
     "data": {
      "text/plain": "   program_category  region_served  age_group  sex  transgender  sexual_orientation  hispanic_ethnicity  race  living_situation  household_composition  preferred_language  veteran_status  employment_status  number_of_hours_worked_each_week  education_status  special_education_services  intellectual_disability  autism_spectrum  other_developmental_disability  alcohol_related_disorder  drug_substance_disorder  mobility_impairment_disorder  hearing_visual_impairment  hyperlipidemia  high_blood_pressure  diabetes  obesity  heart_attack  stroke  other_cardiac  pulmonary_asthma  alzheimer_or_dementia  kidney_disease  liver_disease  endocrine_condition  neurological_condition  traumatic_brain_injury  joint_disease  cancer  no_chronic_med_condition  unknown_chronic_med_condition  smokes  received_smoking_medication  received_smoking_counseling  principal_diagnosis_class  additional_diagnosis_class  ssi_cash_assistance  ssdi_cash_assistance  veterans_disability_benefits  \\\n0               1.0            1.0        1.0  1.0          1.0                 1.0                 1.0   1.0               1.0                    1.0                 1.0             1.0                1.0                               1.0               1.0                         1.0                      1.0              1.0                             1.0                       1.0                      1.0                           1.0                        1.0             1.0                  1.0       1.0      1.0           1.0     1.0            1.0               1.0                    1.0             1.0            1.0                  1.0                     1.0                     1.0            1.0     1.0                       1.0                            1.0     1.0                          1.0                          1.0                        1.0                         1.0                  1.0                   1.0                           1.0   \n1               1.0            1.0        2.0  1.0          1.0                 2.0                 2.0   1.0               2.0                    2.0                 1.0             1.0                2.0                               2.0               2.0                         2.0                      1.0              1.0                             1.0                       1.0                      1.0                           1.0                        1.0             2.0                  2.0       2.0      2.0           2.0     2.0            2.0               2.0                    2.0             2.0            2.0                  2.0                     2.0                     2.0            2.0     2.0                       2.0                            2.0     2.0                          2.0                          2.0                        2.0                         2.0                  2.0                   2.0                           2.0   \n2               1.0            2.0        1.0  2.0          1.0                 2.0                 2.0   1.0               2.0                    1.0                 1.0             1.0                1.0                               1.0               3.0                         1.0                      1.0              2.0                             1.0                       1.0                      1.0                           1.0                        1.0             2.0                  2.0       2.0      2.0           2.0     2.0            2.0               2.0                    2.0             2.0            2.0                  2.0                     2.0                     2.0            2.0     2.0                       2.0                            2.0     3.0                          2.0                          2.0                        2.0                         3.0                  2.0                   2.0                           2.0   \n3               1.0            3.0        2.0  1.0          1.0                 2.0                 2.0   1.0               2.0                    1.0                 1.0             1.0                1.0                               1.0               3.0                         2.0                      1.0              1.0                             1.0                       1.0                      1.0                           1.0                        1.0             2.0                  2.0       2.0      2.0           2.0     2.0            2.0               2.0                    2.0             2.0            2.0                  2.0                     2.0                     2.0            2.0     2.0                       2.0                            2.0     3.0                          2.0                          2.0                        2.0                         1.0                  2.0                   2.0                           2.0   \n4               1.0            4.0        1.0  1.0          1.0                 2.0                 2.0   1.0               2.0                    1.0                 1.0             1.0                1.0                               1.0               3.0                         1.0                      2.0              2.0                             2.0                       1.0                      1.0                           1.0                        1.0             2.0                  2.0       2.0      2.0           2.0     2.0            2.0               2.0                    2.0             2.0            2.0                  2.0                     2.0                     2.0            2.0     2.0                       2.0                            2.0     3.0                          2.0                          2.0                        2.0                         3.0                  1.0                   1.0                           1.0   \n\n   veterans_cash_assistance  public_assistance_cash_program  other_cash_benefits  medicaid_and_medicare_insurance  no_insurance  unknown_insurance_coverage  medicaid_insurance  medicaid_managed_insurance  medicare_insurance  private_insurance  child_health_plus_insurance  family_health_plus_insurance  other_insurance  criminal_justice_status  three_digit_residence_zip_code  other_chronic_med_condition   id  \n0                       1.0                             1.0                  1.0                              1.0           1.0                         1.0                 1.0                         1.0                 1.0                1.0                          1.0                           1.0              1.0                      1.0                           999.0                          1.0  1.0  \n1                       2.0                             2.0                  2.0                              1.0           1.0                         1.0                 2.0                         2.0                 1.0                2.0                          1.0                           1.0              1.0                      2.0                           148.0                          1.0  2.0  \n2                       2.0                             2.0                  2.0                              1.0           1.0                         1.0                 1.0                         1.0                 1.0                1.0                          1.0                           1.0              1.0                      3.0                           117.0                          2.0  3.0  \n3                       2.0                             2.0                  2.0                              1.0           1.0                         1.0                 1.0                         3.0                 1.0                1.0                          1.0                           1.0              1.0                      3.0                           112.0                          2.0  4.0  \n4                       1.0                             1.0                  1.0                              1.0           1.0                         1.0                 2.0                         2.0                 1.0                2.0                          1.0                           1.0              1.0                      3.0                           107.0                          2.0  5.0  ",
      "text/html": "<div>\n<style scoped>\n    .dataframe tbody tr th:only-of-type {\n        vertical-align: middle;\n    }\n\n    .dataframe tbody tr th {\n        vertical-align: top;\n    }\n\n    .dataframe thead th {\n        text-align: right;\n    }\n</style>\n<table border=\"1\" class=\"dataframe\">\n  <thead>\n    <tr style=\"text-align: right;\">\n      <th></th>\n      <th>program_category</th>\n      <th>region_served</th>\n      <th>age_group</th>\n      <th>sex</th>\n      <th>transgender</th>\n      <th>sexual_orientation</th>\n      <th>hispanic_ethnicity</th>\n      <th>race</th>\n      <th>living_situation</th>\n      <th>household_composition</th>\n      <th>preferred_language</th>\n      <th>veteran_status</th>\n      <th>employment_status</th>\n      <th>number_of_hours_worked_each_week</th>\n      <th>education_status</th>\n      <th>special_education_services</th>\n      <th>intellectual_disability</th>\n      <th>autism_spectrum</th>\n      <th>other_developmental_disability</th>\n      <th>alcohol_related_disorder</th>\n      <th>drug_substance_disorder</th>\n      <th>mobility_impairment_disorder</th>\n      <th>hearing_visual_impairment</th>\n      <th>hyperlipidemia</th>\n      <th>high_blood_pressure</th>\n      <th>diabetes</th>\n      <th>obesity</th>\n      <th>heart_attack</th>\n      <th>stroke</th>\n      <th>other_cardiac</th>\n      <th>pulmonary_asthma</th>\n      <th>alzheimer_or_dementia</th>\n      <th>kidney_disease</th>\n      <th>liver_disease</th>\n      <th>endocrine_condition</th>\n      <th>neurological_condition</th>\n      <th>traumatic_brain_injury</th>\n      <th>joint_disease</th>\n      <th>cancer</th>\n      <th>no_chronic_med_condition</th>\n      <th>unknown_chronic_med_condition</th>\n      <th>smokes</th>\n      <th>received_smoking_medication</th>\n      <th>received_smoking_counseling</th>\n      <th>principal_diagnosis_class</th>\n      <th>additional_diagnosis_class</th>\n      <th>ssi_cash_assistance</th>\n      <th>ssdi_cash_assistance</th>\n      <th>veterans_disability_benefits</th>\n      <th>veterans_cash_assistance</th>\n      <th>public_assistance_cash_program</th>\n      <th>other_cash_benefits</th>\n      <th>medicaid_and_medicare_insurance</th>\n      <th>no_insurance</th>\n      <th>unknown_insurance_coverage</th>\n      <th>medicaid_insurance</th>\n      <th>medicaid_managed_insurance</th>\n      <th>medicare_insurance</th>\n      <th>private_insurance</th>\n      <th>child_health_plus_insurance</th>\n      <th>family_health_plus_insurance</th>\n      <th>other_insurance</th>\n      <th>criminal_justice_status</th>\n      <th>three_digit_residence_zip_code</th>\n      <th>other_chronic_med_condition</th>\n      <th>id</th>\n    </tr>\n  </thead>\n  <tbody>\n    <tr>\n      <th>0</th>\n      <td>1.0</td>\n      <td>1.0</td>\n      <td>1.0</td>\n      <td>1.0</td>\n      <td>1.0</td>\n      <td>1.0</td>\n      <td>1.0</td>\n      <td>1.0</td>\n      <td>1.0</td>\n      <td>1.0</td>\n      <td>1.0</td>\n      <td>1.0</td>\n      <td>1.0</td>\n      <td>1.0</td>\n      <td>1.0</td>\n      <td>1.0</td>\n      <td>1.0</td>\n      <td>1.0</td>\n      <td>1.0</td>\n      <td>1.0</td>\n      <td>1.0</td>\n      <td>1.0</td>\n      <td>1.0</td>\n      <td>1.0</td>\n      <td>1.0</td>\n      <td>1.0</td>\n      <td>1.0</td>\n      <td>1.0</td>\n      <td>1.0</td>\n      <td>1.0</td>\n      <td>1.0</td>\n      <td>1.0</td>\n      <td>1.0</td>\n      <td>1.0</td>\n      <td>1.0</td>\n      <td>1.0</td>\n      <td>1.0</td>\n      <td>1.0</td>\n      <td>1.0</td>\n      <td>1.0</td>\n      <td>1.0</td>\n      <td>1.0</td>\n      <td>1.0</td>\n      <td>1.0</td>\n      <td>1.0</td>\n      <td>1.0</td>\n      <td>1.0</td>\n      <td>1.0</td>\n      <td>1.0</td>\n      <td>1.0</td>\n      <td>1.0</td>\n      <td>1.0</td>\n      <td>1.0</td>\n      <td>1.0</td>\n      <td>1.0</td>\n      <td>1.0</td>\n      <td>1.0</td>\n      <td>1.0</td>\n      <td>1.0</td>\n      <td>1.0</td>\n      <td>1.0</td>\n      <td>1.0</td>\n      <td>1.0</td>\n      <td>999.0</td>\n      <td>1.0</td>\n      <td>1.0</td>\n    </tr>\n    <tr>\n      <th>1</th>\n      <td>1.0</td>\n      <td>1.0</td>\n      <td>2.0</td>\n      <td>1.0</td>\n      <td>1.0</td>\n      <td>2.0</td>\n      <td>2.0</td>\n      <td>1.0</td>\n      <td>2.0</td>\n      <td>2.0</td>\n      <td>1.0</td>\n      <td>1.0</td>\n      <td>2.0</td>\n      <td>2.0</td>\n      <td>2.0</td>\n      <td>2.0</td>\n      <td>1.0</td>\n      <td>1.0</td>\n      <td>1.0</td>\n      <td>1.0</td>\n      <td>1.0</td>\n      <td>1.0</td>\n      <td>1.0</td>\n      <td>2.0</td>\n      <td>2.0</td>\n      <td>2.0</td>\n      <td>2.0</td>\n      <td>2.0</td>\n      <td>2.0</td>\n      <td>2.0</td>\n      <td>2.0</td>\n      <td>2.0</td>\n      <td>2.0</td>\n      <td>2.0</td>\n      <td>2.0</td>\n      <td>2.0</td>\n      <td>2.0</td>\n      <td>2.0</td>\n      <td>2.0</td>\n      <td>2.0</td>\n      <td>2.0</td>\n      <td>2.0</td>\n      <td>2.0</td>\n      <td>2.0</td>\n      <td>2.0</td>\n      <td>2.0</td>\n      <td>2.0</td>\n      <td>2.0</td>\n      <td>2.0</td>\n      <td>2.0</td>\n      <td>2.0</td>\n      <td>2.0</td>\n      <td>1.0</td>\n      <td>1.0</td>\n      <td>1.0</td>\n      <td>2.0</td>\n      <td>2.0</td>\n      <td>1.0</td>\n      <td>2.0</td>\n      <td>1.0</td>\n      <td>1.0</td>\n      <td>1.0</td>\n      <td>2.0</td>\n      <td>148.0</td>\n      <td>1.0</td>\n      <td>2.0</td>\n    </tr>\n    <tr>\n      <th>2</th>\n      <td>1.0</td>\n      <td>2.0</td>\n      <td>1.0</td>\n      <td>2.0</td>\n      <td>1.0</td>\n      <td>2.0</td>\n      <td>2.0</td>\n      <td>1.0</td>\n      <td>2.0</td>\n      <td>1.0</td>\n      <td>1.0</td>\n      <td>1.0</td>\n      <td>1.0</td>\n      <td>1.0</td>\n      <td>3.0</td>\n      <td>1.0</td>\n      <td>1.0</td>\n      <td>2.0</td>\n      <td>1.0</td>\n      <td>1.0</td>\n      <td>1.0</td>\n      <td>1.0</td>\n      <td>1.0</td>\n      <td>2.0</td>\n      <td>2.0</td>\n      <td>2.0</td>\n      <td>2.0</td>\n      <td>2.0</td>\n      <td>2.0</td>\n      <td>2.0</td>\n      <td>2.0</td>\n      <td>2.0</td>\n      <td>2.0</td>\n      <td>2.0</td>\n      <td>2.0</td>\n      <td>2.0</td>\n      <td>2.0</td>\n      <td>2.0</td>\n      <td>2.0</td>\n      <td>2.0</td>\n      <td>2.0</td>\n      <td>3.0</td>\n      <td>2.0</td>\n      <td>2.0</td>\n      <td>2.0</td>\n      <td>3.0</td>\n      <td>2.0</td>\n      <td>2.0</td>\n      <td>2.0</td>\n      <td>2.0</td>\n      <td>2.0</td>\n      <td>2.0</td>\n      <td>1.0</td>\n      <td>1.0</td>\n      <td>1.0</td>\n      <td>1.0</td>\n      <td>1.0</td>\n      <td>1.0</td>\n      <td>1.0</td>\n      <td>1.0</td>\n      <td>1.0</td>\n      <td>1.0</td>\n      <td>3.0</td>\n      <td>117.0</td>\n      <td>2.0</td>\n      <td>3.0</td>\n    </tr>\n    <tr>\n      <th>3</th>\n      <td>1.0</td>\n      <td>3.0</td>\n      <td>2.0</td>\n      <td>1.0</td>\n      <td>1.0</td>\n      <td>2.0</td>\n      <td>2.0</td>\n      <td>1.0</td>\n      <td>2.0</td>\n      <td>1.0</td>\n      <td>1.0</td>\n      <td>1.0</td>\n      <td>1.0</td>\n      <td>1.0</td>\n      <td>3.0</td>\n      <td>2.0</td>\n      <td>1.0</td>\n      <td>1.0</td>\n      <td>1.0</td>\n      <td>1.0</td>\n      <td>1.0</td>\n      <td>1.0</td>\n      <td>1.0</td>\n      <td>2.0</td>\n      <td>2.0</td>\n      <td>2.0</td>\n      <td>2.0</td>\n      <td>2.0</td>\n      <td>2.0</td>\n      <td>2.0</td>\n      <td>2.0</td>\n      <td>2.0</td>\n      <td>2.0</td>\n      <td>2.0</td>\n      <td>2.0</td>\n      <td>2.0</td>\n      <td>2.0</td>\n      <td>2.0</td>\n      <td>2.0</td>\n      <td>2.0</td>\n      <td>2.0</td>\n      <td>3.0</td>\n      <td>2.0</td>\n      <td>2.0</td>\n      <td>2.0</td>\n      <td>1.0</td>\n      <td>2.0</td>\n      <td>2.0</td>\n      <td>2.0</td>\n      <td>2.0</td>\n      <td>2.0</td>\n      <td>2.0</td>\n      <td>1.0</td>\n      <td>1.0</td>\n      <td>1.0</td>\n      <td>1.0</td>\n      <td>3.0</td>\n      <td>1.0</td>\n      <td>1.0</td>\n      <td>1.0</td>\n      <td>1.0</td>\n      <td>1.0</td>\n      <td>3.0</td>\n      <td>112.0</td>\n      <td>2.0</td>\n      <td>4.0</td>\n    </tr>\n    <tr>\n      <th>4</th>\n      <td>1.0</td>\n      <td>4.0</td>\n      <td>1.0</td>\n      <td>1.0</td>\n      <td>1.0</td>\n      <td>2.0</td>\n      <td>2.0</td>\n      <td>1.0</td>\n      <td>2.0</td>\n      <td>1.0</td>\n      <td>1.0</td>\n      <td>1.0</td>\n      <td>1.0</td>\n      <td>1.0</td>\n      <td>3.0</td>\n      <td>1.0</td>\n      <td>2.0</td>\n      <td>2.0</td>\n      <td>2.0</td>\n      <td>1.0</td>\n      <td>1.0</td>\n      <td>1.0</td>\n      <td>1.0</td>\n      <td>2.0</td>\n      <td>2.0</td>\n      <td>2.0</td>\n      <td>2.0</td>\n      <td>2.0</td>\n      <td>2.0</td>\n      <td>2.0</td>\n      <td>2.0</td>\n      <td>2.0</td>\n      <td>2.0</td>\n      <td>2.0</td>\n      <td>2.0</td>\n      <td>2.0</td>\n      <td>2.0</td>\n      <td>2.0</td>\n      <td>2.0</td>\n      <td>2.0</td>\n      <td>2.0</td>\n      <td>3.0</td>\n      <td>2.0</td>\n      <td>2.0</td>\n      <td>2.0</td>\n      <td>3.0</td>\n      <td>1.0</td>\n      <td>1.0</td>\n      <td>1.0</td>\n      <td>1.0</td>\n      <td>1.0</td>\n      <td>1.0</td>\n      <td>1.0</td>\n      <td>1.0</td>\n      <td>1.0</td>\n      <td>2.0</td>\n      <td>2.0</td>\n      <td>1.0</td>\n      <td>2.0</td>\n      <td>1.0</td>\n      <td>1.0</td>\n      <td>1.0</td>\n      <td>3.0</td>\n      <td>107.0</td>\n      <td>2.0</td>\n      <td>5.0</td>\n    </tr>\n  </tbody>\n</table>\n</div>"
     },
     "metadata": {},
     "execution_count": 52
    }
   ],
   "source": [
    "X_train_processed.head()"
   ]
  },
  {
   "cell_type": "code",
   "execution_count": 55,
   "metadata": {},
   "outputs": [],
   "source": [
    "y_train_processed, y_val_processed, y_test_processed = prepare_targets(y_train, y_val, y_test)"
   ]
  },
  {
   "cell_type": "code",
   "execution_count": 56,
   "metadata": {},
   "outputs": [
    {
     "output_type": "execute_result",
     "data": {
      "text/plain": "   serious_mental_illness\n0                     1.0\n1                     1.0\n2                     2.0\n3                     2.0\n4                     2.0",
      "text/html": "<div>\n<style scoped>\n    .dataframe tbody tr th:only-of-type {\n        vertical-align: middle;\n    }\n\n    .dataframe tbody tr th {\n        vertical-align: top;\n    }\n\n    .dataframe thead th {\n        text-align: right;\n    }\n</style>\n<table border=\"1\" class=\"dataframe\">\n  <thead>\n    <tr style=\"text-align: right;\">\n      <th></th>\n      <th>serious_mental_illness</th>\n    </tr>\n  </thead>\n  <tbody>\n    <tr>\n      <th>0</th>\n      <td>1.0</td>\n    </tr>\n    <tr>\n      <th>1</th>\n      <td>1.0</td>\n    </tr>\n    <tr>\n      <th>2</th>\n      <td>2.0</td>\n    </tr>\n    <tr>\n      <th>3</th>\n      <td>2.0</td>\n    </tr>\n    <tr>\n      <th>4</th>\n      <td>2.0</td>\n    </tr>\n  </tbody>\n</table>\n</div>"
     },
     "metadata": {},
     "execution_count": 56
    }
   ],
   "source": [
    "y_train_processed.head()"
   ]
  },
  {
   "cell_type": "code",
   "execution_count": null,
   "metadata": {},
   "outputs": [],
   "source": [
    "eval_set = [(X_train_processed, y_train_processed), (X_val_processed, y_val_processed)]"
   ]
  },
  {
   "cell_type": "code",
   "execution_count": 57,
   "metadata": {},
   "outputs": [],
   "source": [
    "xgbcl = XGBClassifier(base_score=0.5, booster='gbtree', colsample_bylevel=1.0,\n",
    "         gamma=0.0, max_delta_step=0.0, min_child_weight=1.0,\n",
    "         missing=None, n_jobs=-1, objective='binary:logistic', random_state=42, reg_alpha=0.0,\n",
    "         reg_lambda=1.0, scale_pos_weight=1.0, tree_method='auto')\n",
    "\n",
    "kfold = StratifiedKFold(n_splits=3, shuffle=True, random_state=42)\n",
    "\n",
    "param_grid = { \n",
    "    'colsample_bytree':[.75,1],\n",
    "    'learning_rate':[0.01,0.05,0.1,0.3,0.5],\n",
    "    'max_depth':[1,2,3,5],\n",
    "    'subsample':[.75,1],\n",
    "    'n_estimators': list(range(50, 400, 50))\n",
    "}"
   ]
  },
  {
   "cell_type": "code",
   "execution_count": null,
   "metadata": {},
   "outputs": [],
   "source": [
    "grid_search = GridSearchCV(estimator=xgbcl, param_grid=param_grid, n_jobs=-1, cv=kfold)\n",
    "grid_result = grid_search.fit(X_train_processed, y_train_processed)\n",
    "\n",
    "print(f'Best: {grid_result.best_score_} using {grid_result.best_params_}','\\n')"
   ]
  },
  {
   "cell_type": "code",
   "execution_count": null,
   "metadata": {},
   "outputs": [],
   "source": [
    "xgbcl = XGBClassifier(base_score=0.5, booster='gbtree', colsample_bylevel=1.0,\n",
    "         gamma=0.0, max_delta_step=0.0, min_child_weight=1.0,\n",
    "         missing=None, n_jobs=-1, objective='multi:softmax', num_class=3,random_state=42, reg_alpha=0.0,\n",
    "         reg_lambda=1.0, scale_pos_weight=1.0, tree_method='auto',\n",
    "         colsample_bytree = grid_result.best_params_['colsample_bytree'], \n",
    "         learning_rate = grid_result.best_params_['learning_rate'], \n",
    "         max_depth = grid_result.best_params_['max_depth'], \n",
    "         subsample = grid_result.best_params_['subsample'], \n",
    "         n_estimators = grid_result.best_params_['n_estimators'])\n",
    "\n",
    "kfold = StratifiedKFold(n_splits=5, shuffle=True, random_state=42)\n",
    "\n",
    "#refit the model on k-folds to get stable avg error metrics\n",
    "scores = cross_validate(estimator=xgbcl, X=X_train_processed, y=y_train_processed, cv=kfold, scoring=['accuracy', ], n_jobs=-1)"
   ]
  },
  {
   "cell_type": "code",
   "execution_count": null,
   "metadata": {},
   "outputs": [],
   "source": [
    "print('Training 5-fold Cross Validation Results:\\n')\n",
    "# print('AUC: ', scores['test_roc_auc'].mean())\n",
    "print('Accuracy: ', scores['test_accuracy'].mean())\n",
    "# print('Precision: ', scores['test_precision'].mean())\n",
    "# print('Recall: ', scores['test_recall'].mean())\n",
    "# print('F1: ', scores['test_f1'].mean(), '\\n')"
   ]
  },
  {
   "cell_type": "code",
   "execution_count": null,
   "metadata": {},
   "outputs": [],
   "source": [
    "from sklearn import metrics\n",
    "\n",
    "xgbcl.fit(X_train_processed, y_train_processed)\n",
    "\n",
    "#Generate predictions against our training and test data\n",
    "pred_train = xgbcl.predict(X_train_processed)\n",
    "proba_train = xgbcl.predict_proba(X_train_processed)\n",
    "pred_test = xgbcl.predict(X_val_processed)\n",
    "proba_test = xgbcl.predict_proba(X_val_processed)\n",
    "\n",
    "# Print model report\n",
    "print(\"Classification report (Test): \\n\")\n",
    "print(metrics.classification_report(y_val_processed, pred_test))\n",
    "\n",
    "print ('\\nTrain Accuracy:', metrics.accuracy_score(y_train_processed, pred_train))\n",
    "print ('Test Accuracy:', metrics.accuracy_score(y_val_processed, pred_test))\n",
    "\n"
   ]
  },
  {
   "cell_type": "code",
   "execution_count": null,
   "metadata": {},
   "outputs": [],
   "source": [
    "plot_importance(xgbcl, importance_type='gain')"
   ]
  },
  {
   "cell_type": "code",
   "execution_count": null,
   "metadata": {},
   "outputs": [],
   "source": [
    "from pdpbox.pdp import pdp_interact, pdp_interact_plot"
   ]
  },
  {
   "cell_type": "code",
   "execution_count": null,
   "metadata": {},
   "outputs": [],
   "source": [
    "features = ['race', 'cancer']\n",
    "\n",
    "interaction = pdp_interact(\n",
    "    model=xgbcl,\n",
    "    dataset=X_val_processed,\n",
    "    model_features=X_val_processed.columns,\n",
    "    features=features\n",
    ")"
   ]
  },
  {
   "cell_type": "code",
   "execution_count": null,
   "metadata": {},
   "outputs": [],
   "source": [
    "pdp_interact_plot(interaction, plot_type='grid',\n",
    "                  feature_names=features)"
   ]
  },
  {
   "cell_type": "code",
   "execution_count": null,
   "metadata": {},
   "outputs": [],
   "source": []
  },
  {
   "cell_type": "code",
   "execution_count": null,
   "metadata": {},
   "outputs": [],
   "source": []
  },
  {
   "cell_type": "code",
   "execution_count": null,
   "metadata": {},
   "outputs": [],
   "source": [
    "\n",
    "# model = XGBClassifier(    \n",
    "#     n_estimators=1000,  \n",
    "#     max_depth=7,       \n",
    "#     learning_rate=0.5,  \n",
    "#     n_jobs=-1\n",
    "#     )\n",
    "# model.fit(X_train_processed, y_train_processed, eval_set=eval_set, early_stopping_rounds=10)"
   ]
  }
 ],
 "metadata": {
  "kernelspec": {
   "display_name": "Python 3.7.7 64-bit ('GenderAndSex': pipenv)",
   "language": "python",
   "name": "python37764bitgenderandsexpipenv107ade35c21d4a9ba667555fc993da22"
  },
  "language_info": {
   "codemirror_mode": {
    "name": "ipython",
    "version": 3
   },
   "file_extension": ".py",
   "mimetype": "text/x-python",
   "name": "python",
   "nbconvert_exporter": "python",
   "pygments_lexer": "ipython3",
   "version": "3.7.7-final"
  }
 },
 "nbformat": 4,
 "nbformat_minor": 4
}